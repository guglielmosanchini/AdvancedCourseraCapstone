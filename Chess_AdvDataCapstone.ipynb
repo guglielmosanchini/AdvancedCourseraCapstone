{
 "cells": [
  {
   "cell_type": "markdown",
   "metadata": {},
   "source": [
    "# CHESS PROJECT\n",
    "## How to predict who is going to win a chess match\n",
    "\n",
    "Guglielmo Sanchini"
   ]
  },
  {
   "cell_type": "markdown",
   "metadata": {
    "heading_collapsed": true
   },
   "source": [
    "## Loading"
   ]
  },
  {
   "cell_type": "markdown",
   "metadata": {
    "hidden": true
   },
   "source": [
    "**importing all necessary packages and setting up Spark environment**"
   ]
  },
  {
   "cell_type": "code",
   "execution_count": 1,
   "metadata": {
    "ExecuteTime": {
     "end_time": "2019-10-29T07:57:10.633115Z",
     "start_time": "2019-10-29T07:57:05.369591Z"
    },
    "hidden": true
   },
   "outputs": [],
   "source": [
    "import numpy as np\n",
    "import pandas as pd\n",
    "import matplotlib.pyplot as plt\n",
    "import seaborn as sns\n",
    "from collections import Counter\n",
    "import joypy\n",
    "import scipy"
   ]
  },
  {
   "cell_type": "code",
   "execution_count": 61,
   "metadata": {
    "ExecuteTime": {
     "end_time": "2019-10-29T08:33:25.659345Z",
     "start_time": "2019-10-29T08:33:25.655817Z"
    },
    "hidden": true
   },
   "outputs": [],
   "source": [
    "from pyspark.ml.classification import DecisionTreeClassifier, RandomForestClassifier, LogisticRegression\n",
    "from pyspark.ml.evaluation import MulticlassClassificationEvaluator\n",
    "from sklearn.preprocessing import LabelEncoder, StandardScaler\n",
    "from sklearn.model_selection import train_test_split"
   ]
  },
  {
   "cell_type": "code",
   "execution_count": null,
   "metadata": {
    "hidden": true
   },
   "outputs": [],
   "source": [
    "from keras.models import Sequential\n",
    "from keras.layers.core import Dense, Dropout, Activation\n",
    "from keras import optimizers, regularizers\n",
    "from keras.optimizers import Adam"
   ]
  },
  {
   "cell_type": "code",
   "execution_count": 2,
   "metadata": {
    "ExecuteTime": {
     "end_time": "2019-10-29T07:57:10.647072Z",
     "start_time": "2019-10-29T07:57:10.636002Z"
    },
    "hidden": true
   },
   "outputs": [],
   "source": [
    "import findspark\n",
    "import os\n",
    "\n",
    "spark_location='/usr/local/Cellar/apache-spark/2.4.3/libexec/' # Set your own\n",
    "java8_location= '/Library/Java/JavaVirtualMachines/adoptopenjdk-8.jdk/Contents/Home' # Set your own\n",
    "os.environ['JAVA_HOME'] = java8_location\n",
    "findspark.init(spark_home=spark_location) "
   ]
  },
  {
   "cell_type": "code",
   "execution_count": 3,
   "metadata": {
    "ExecuteTime": {
     "end_time": "2019-10-29T07:57:38.385136Z",
     "start_time": "2019-10-29T07:57:10.656229Z"
    },
    "hidden": true,
    "scrolled": true
   },
   "outputs": [],
   "source": [
    "from pyspark.sql import Row,SQLContext, SparkSession\n",
    "#import csv\n",
    "import pyspark.sql.functions as f\n",
    "from pyspark.sql.functions import *\n",
    "from pyspark.sql.types import *\n",
    "\n",
    "import pyspark\n",
    "import random\n",
    "\n",
    "sc = pyspark.SparkContext(appName=\"SPARK-CHESS\")\n",
    "spark = SparkSession.builder.appName(\"CHESS\").getOrCreate()"
   ]
  },
  {
   "cell_type": "markdown",
   "metadata": {
    "hidden": true
   },
   "source": [
    "**Loading the dataset**"
   ]
  },
  {
   "cell_type": "code",
   "execution_count": 4,
   "metadata": {
    "ExecuteTime": {
     "end_time": "2019-10-29T07:57:44.099212Z",
     "start_time": "2019-10-29T07:57:38.388726Z"
    },
    "hidden": true
   },
   "outputs": [],
   "source": [
    "df = spark.read.csv('games.csv', header=True)"
   ]
  },
  {
   "cell_type": "code",
   "execution_count": 5,
   "metadata": {
    "ExecuteTime": {
     "end_time": "2019-10-29T07:57:44.122011Z",
     "start_time": "2019-10-29T07:57:44.103156Z"
    },
    "hidden": true
   },
   "outputs": [
    {
     "data": {
      "text/html": [
       "\n",
       "        <div>\n",
       "            <p><b>SparkContext</b></p>\n",
       "\n",
       "            <p><a href=\"http://10.1.52.19:4040\">Spark UI</a></p>\n",
       "\n",
       "            <dl>\n",
       "              <dt>Version</dt>\n",
       "                <dd><code>v2.4.3</code></dd>\n",
       "              <dt>Master</dt>\n",
       "                <dd><code>local[*]</code></dd>\n",
       "              <dt>AppName</dt>\n",
       "                <dd><code>SPARK-CHESS</code></dd>\n",
       "            </dl>\n",
       "        </div>\n",
       "        "
      ],
      "text/plain": [
       "<SparkContext master=local[*] appName=SPARK-CHESS>"
      ]
     },
     "execution_count": 5,
     "metadata": {},
     "output_type": "execute_result"
    }
   ],
   "source": [
    "sc"
   ]
  },
  {
   "cell_type": "markdown",
   "metadata": {},
   "source": [
    "## Feature Creation"
   ]
  },
  {
   "cell_type": "markdown",
   "metadata": {},
   "source": [
    "### Data Exploration and Cleansing"
   ]
  },
  {
   "cell_type": "markdown",
   "metadata": {},
   "source": [
    "**How many rows are in the dataset?**"
   ]
  },
  {
   "cell_type": "code",
   "execution_count": 6,
   "metadata": {
    "ExecuteTime": {
     "end_time": "2019-10-29T07:57:44.874142Z",
     "start_time": "2019-10-29T07:57:44.125565Z"
    }
   },
   "outputs": [
    {
     "data": {
      "text/plain": [
       "20058"
      ]
     },
     "execution_count": 6,
     "metadata": {},
     "output_type": "execute_result"
    }
   ],
   "source": [
    "df.count()"
   ]
  },
  {
   "cell_type": "markdown",
   "metadata": {},
   "source": [
    "**How many duplicate rows are in the dataset?**"
   ]
  },
  {
   "cell_type": "code",
   "execution_count": 7,
   "metadata": {
    "ExecuteTime": {
     "end_time": "2019-10-29T07:57:47.510871Z",
     "start_time": "2019-10-29T07:57:44.881145Z"
    }
   },
   "outputs": [
    {
     "data": {
      "text/plain": [
       "19629"
      ]
     },
     "execution_count": 7,
     "metadata": {},
     "output_type": "execute_result"
    }
   ],
   "source": [
    "df = df.dropDuplicates()\n",
    "df.count()"
   ]
  },
  {
   "cell_type": "markdown",
   "metadata": {},
   "source": [
    "**Looking for NaN values**"
   ]
  },
  {
   "cell_type": "code",
   "execution_count": 8,
   "metadata": {
    "ExecuteTime": {
     "end_time": "2019-10-29T07:57:49.455531Z",
     "start_time": "2019-10-29T07:57:47.515839Z"
    }
   },
   "outputs": [
    {
     "data": {
      "text/plain": [
       "19629"
      ]
     },
     "execution_count": 8,
     "metadata": {},
     "output_type": "execute_result"
    }
   ],
   "source": [
    "df.na.drop().count() #so there are no NaN values"
   ]
  },
  {
   "cell_type": "markdown",
   "metadata": {},
   "source": [
    "**Column names**"
   ]
  },
  {
   "cell_type": "code",
   "execution_count": 9,
   "metadata": {
    "ExecuteTime": {
     "end_time": "2019-10-29T07:57:49.466327Z",
     "start_time": "2019-10-29T07:57:49.458493Z"
    }
   },
   "outputs": [
    {
     "data": {
      "text/plain": [
       "['id',\n",
       " 'rated',\n",
       " 'created_at',\n",
       " 'last_move_at',\n",
       " 'turns',\n",
       " 'victory_status',\n",
       " 'winner',\n",
       " 'increment_code',\n",
       " 'white_id',\n",
       " 'white_rating',\n",
       " 'black_id',\n",
       " 'black_rating',\n",
       " 'moves',\n",
       " 'opening_eco',\n",
       " 'opening_name',\n",
       " 'opening_ply']"
      ]
     },
     "execution_count": 9,
     "metadata": {},
     "output_type": "execute_result"
    }
   ],
   "source": [
    "df.columns"
   ]
  },
  {
   "cell_type": "markdown",
   "metadata": {},
   "source": [
    "**Explanations for some columns**\n",
    "\n",
    "increment code: https://chess.stackexchange.com/questions/18069/what-is-the-increment-in-chess\n",
    "\n",
    "how opening_name and opening_eco are related: https://www.365chess.com/eco.php"
   ]
  },
  {
   "cell_type": "markdown",
   "metadata": {},
   "source": [
    "**Column types**"
   ]
  },
  {
   "cell_type": "code",
   "execution_count": 38,
   "metadata": {
    "ExecuteTime": {
     "end_time": "2019-10-28T15:29:16.915002Z",
     "start_time": "2019-10-28T15:29:16.904118Z"
    }
   },
   "outputs": [
    {
     "data": {
      "text/plain": [
       "[('id', 'string'),\n",
       " ('rated', 'string'),\n",
       " ('created_at', 'string'),\n",
       " ('last_move_at', 'string'),\n",
       " ('turns', 'string'),\n",
       " ('victory_status', 'string'),\n",
       " ('winner', 'string'),\n",
       " ('increment_code', 'string'),\n",
       " ('white_id', 'string'),\n",
       " ('white_rating', 'string'),\n",
       " ('black_id', 'string'),\n",
       " ('black_rating', 'string'),\n",
       " ('moves', 'string'),\n",
       " ('opening_eco', 'string'),\n",
       " ('opening_name', 'string'),\n",
       " ('opening_ply', 'string')]"
      ]
     },
     "execution_count": 38,
     "metadata": {},
     "output_type": "execute_result"
    }
   ],
   "source": [
    "df.dtypes"
   ]
  },
  {
   "cell_type": "markdown",
   "metadata": {},
   "source": [
    "**Let's drop some columns which are not relevant for our analysis**"
   ]
  },
  {
   "cell_type": "code",
   "execution_count": 10,
   "metadata": {
    "ExecuteTime": {
     "end_time": "2019-10-29T07:57:49.500366Z",
     "start_time": "2019-10-29T07:57:49.470139Z"
    }
   },
   "outputs": [],
   "source": [
    "df = df.drop(\"created_at\", \"last_move_at\", \"white_id\", \"black_id\")"
   ]
  },
  {
   "cell_type": "markdown",
   "metadata": {},
   "source": [
    "**In the following lines we separate the increment code column to display in two different columns the fixed time and the additional seconds given at each turn**"
   ]
  },
  {
   "cell_type": "code",
   "execution_count": 11,
   "metadata": {
    "ExecuteTime": {
     "end_time": "2019-10-29T07:57:49.649276Z",
     "start_time": "2019-10-29T07:57:49.505120Z"
    }
   },
   "outputs": [],
   "source": [
    "#defining custom functions to split the increment_code column\n",
    "def funz1(value):\n",
    "    return value.split(\"+\")[0]\n",
    "\n",
    "def funz2(value):\n",
    "    return value.split(\"+\")[1]\n",
    "    \n",
    "udf_funz1 = udf(funz1, StringType())\n",
    "udf_funz2 = udf(funz2, StringType())\n",
    "\n",
    "#creating the two new column\n",
    "df = df.withColumn(\"increment1\", udf_funz1(\"increment_code\"))\n",
    "df = df.withColumn(\"increment2\", udf_funz2(\"increment_code\"))\n",
    "\n",
    "#dropping the old columns\n",
    "df = df.drop(\"increment_code\")"
   ]
  },
  {
   "cell_type": "markdown",
   "metadata": {},
   "source": [
    "**We convert all wrong types into the right types, mainly from string to int**"
   ]
  },
  {
   "cell_type": "code",
   "execution_count": 12,
   "metadata": {
    "ExecuteTime": {
     "end_time": "2019-10-29T07:57:49.901103Z",
     "start_time": "2019-10-29T07:57:49.654558Z"
    }
   },
   "outputs": [],
   "source": [
    "df = df.withColumn(\"turns\",df[\"turns\"].cast(\"int\"))\n",
    "df = df.withColumn(\"white_rating\",df[\"white_rating\"].cast(\"int\"))\n",
    "df = df.withColumn(\"black_rating\",df[\"black_rating\"].cast(\"int\"))\n",
    "df = df.withColumn(\"opening_ply\",df[\"opening_ply\"].cast(\"int\"))\n",
    "df = df.withColumn(\"increment1\",df[\"increment1\"].cast(\"int\"))\n",
    "df = df.withColumn(\"increment2\",df[\"increment2\"].cast(\"int\"))"
   ]
  },
  {
   "cell_type": "markdown",
   "metadata": {},
   "source": [
    "**We inspect the new types, to check if they are right**"
   ]
  },
  {
   "cell_type": "code",
   "execution_count": 13,
   "metadata": {
    "ExecuteTime": {
     "end_time": "2019-10-29T07:57:49.919900Z",
     "start_time": "2019-10-29T07:57:49.907209Z"
    }
   },
   "outputs": [
    {
     "data": {
      "text/plain": [
       "[('id', 'string'),\n",
       " ('rated', 'string'),\n",
       " ('turns', 'int'),\n",
       " ('victory_status', 'string'),\n",
       " ('winner', 'string'),\n",
       " ('white_rating', 'int'),\n",
       " ('black_rating', 'int'),\n",
       " ('moves', 'string'),\n",
       " ('opening_eco', 'string'),\n",
       " ('opening_name', 'string'),\n",
       " ('opening_ply', 'int'),\n",
       " ('increment1', 'int'),\n",
       " ('increment2', 'int')]"
      ]
     },
     "execution_count": 13,
     "metadata": {},
     "output_type": "execute_result"
    }
   ],
   "source": [
    "df.dtypes"
   ]
  },
  {
   "cell_type": "markdown",
   "metadata": {},
   "source": [
    "**Let's examine the rated column**"
   ]
  },
  {
   "cell_type": "code",
   "execution_count": 14,
   "metadata": {
    "ExecuteTime": {
     "end_time": "2019-10-29T07:57:53.345626Z",
     "start_time": "2019-10-29T07:57:49.925517Z"
    }
   },
   "outputs": [
    {
     "name": "stdout",
     "output_type": "stream",
     "text": [
      "+-----+-----+\n",
      "|rated|count|\n",
      "+-----+-----+\n",
      "|FALSE| 1852|\n",
      "|False| 1960|\n",
      "| TRUE| 7418|\n",
      "| True| 8399|\n",
      "+-----+-----+\n",
      "\n"
     ]
    }
   ],
   "source": [
    "df.groupBy('rated').count().show()"
   ]
  },
  {
   "cell_type": "markdown",
   "metadata": {},
   "source": [
    "**This column needs cleaning, which is performed in the cell below**"
   ]
  },
  {
   "cell_type": "code",
   "execution_count": 15,
   "metadata": {
    "ExecuteTime": {
     "end_time": "2019-10-29T07:57:53.447501Z",
     "start_time": "2019-10-29T07:57:53.348943Z"
    }
   },
   "outputs": [],
   "source": [
    "df = df.withColumn(\"rated\", \\\n",
    "              when(df[\"rated\"] == \"FALSE\", \"False\").otherwise(df[\"rated\"]))\n",
    "\n",
    "df = df.withColumn(\"rated\", \\\n",
    "              when(df[\"rated\"] == \"TRUE\", \"True\").otherwise(df[\"rated\"]))"
   ]
  },
  {
   "cell_type": "markdown",
   "metadata": {},
   "source": [
    "**Let's review the updated column**"
   ]
  },
  {
   "cell_type": "code",
   "execution_count": 16,
   "metadata": {
    "ExecuteTime": {
     "end_time": "2019-10-28T16:16:04.722898Z",
     "start_time": "2019-10-28T16:16:02.166341Z"
    }
   },
   "outputs": [
    {
     "name": "stdout",
     "output_type": "stream",
     "text": [
      "+-----+-----+\n",
      "|rated|count|\n",
      "+-----+-----+\n",
      "|False| 3812|\n",
      "| True|15817|\n",
      "+-----+-----+\n",
      "\n"
     ]
    }
   ],
   "source": [
    "df.groupBy('rated').count().show()"
   ]
  },
  {
   "cell_type": "markdown",
   "metadata": {},
   "source": [
    "**Let's redrop duplicates after those transformations, to catch other possible identical rows**"
   ]
  },
  {
   "cell_type": "code",
   "execution_count": 16,
   "metadata": {
    "ExecuteTime": {
     "end_time": "2019-10-29T07:58:03.519516Z",
     "start_time": "2019-10-29T07:57:53.450885Z"
    }
   },
   "outputs": [
    {
     "name": "stdout",
     "output_type": "stream",
     "text": [
      "19629\n",
      "19113\n"
     ]
    }
   ],
   "source": [
    "print(df.count())\n",
    "df = df.dropDuplicates()\n",
    "print(df.count())"
   ]
  },
  {
   "cell_type": "markdown",
   "metadata": {},
   "source": [
    "**Let's visualize the rated column**"
   ]
  },
  {
   "cell_type": "code",
   "execution_count": 104,
   "metadata": {
    "ExecuteTime": {
     "end_time": "2019-10-28T11:16:42.882595Z",
     "start_time": "2019-10-28T11:16:35.852564Z"
    }
   },
   "outputs": [
    {
     "data": {
      "image/png": "[encoded data removed]",
      "text/plain": [
       "<Figure size 360x360 with 1 Axes>"
      ]
     },
     "metadata": {},
     "output_type": "display_data"
    }
   ],
   "source": [
    "df.groupBy('rated').count().toPandas().plot.pie(y=\"count\", figsize=(5, 5), \n",
    "                                                labels=[\"False\", \"True\"], autopct='%.1f', \n",
    "                                                colors=[\"r\", \"g\"], pctdistance=0.5,\n",
    "                                               textprops={\"size\":16}, explode=[0.1,0.1],\n",
    "                                               shadow = True)\n",
    "plt.ylabel(\"\")\n",
    "plt.show()"
   ]
  },
  {
   "cell_type": "markdown",
   "metadata": {},
   "source": [
    "**Let's visualize the victory status**"
   ]
  },
  {
   "cell_type": "code",
   "execution_count": 105,
   "metadata": {
    "ExecuteTime": {
     "end_time": "2019-10-28T11:16:49.698364Z",
     "start_time": "2019-10-28T11:16:42.886302Z"
    }
   },
   "outputs": [
    {
     "name": "stdout",
     "output_type": "stream",
     "text": [
      "+--------------+-----+\n",
      "|victory_status|count|\n",
      "+--------------+-----+\n",
      "|        resign|10695|\n",
      "|     outoftime| 1598|\n",
      "|          mate| 5974|\n",
      "|          draw|  846|\n",
      "+--------------+-----+\n",
      "\n"
     ]
    }
   ],
   "source": [
    "df.groupBy('victory_status').count().show()"
   ]
  },
  {
   "cell_type": "code",
   "execution_count": 106,
   "metadata": {
    "ExecuteTime": {
     "end_time": "2019-10-28T11:16:56.576622Z",
     "start_time": "2019-10-28T11:16:49.706877Z"
    }
   },
   "outputs": [
    {
     "data": {
      "image/png": "[encoded data removed]",
      "text/plain": [
       "<Figure size 432x432 with 1 Axes>"
      ]
     },
     "metadata": {},
     "output_type": "display_data"
    }
   ],
   "source": [
    "df.groupBy('victory_status').count().toPandas().plot.pie(y=\"count\", figsize=(6, 6), \n",
    "                                                labels=[\"resign\", \"outoftime\", \"mate\", \"draw\"], autopct='%.1f', \n",
    "                                                colors=[\"gold\", \"orange\", \"lightblue\", \"lime\"], pctdistance=0.5,\n",
    "                                               textprops={\"size\":16}, legend=None, explode=[0.05,0.05,0.05,0.05],\n",
    "                                               shadow = True)\n",
    "plt.ylabel(\"\")\n",
    "plt.show()"
   ]
  },
  {
   "cell_type": "markdown",
   "metadata": {},
   "source": [
    "**Let's see how winners are distributed: we see that the white player (who moves first) has a slight advantage over the black one;**\n",
    "\n",
    "**this is a well-known fact in the chess world**"
   ]
  },
  {
   "cell_type": "code",
   "execution_count": 107,
   "metadata": {
    "ExecuteTime": {
     "end_time": "2019-10-28T11:17:03.376307Z",
     "start_time": "2019-10-28T11:16:56.580977Z"
    }
   },
   "outputs": [
    {
     "name": "stdout",
     "output_type": "stream",
     "text": [
      "+------+-----+\n",
      "|winner|count|\n",
      "+------+-----+\n",
      "| white| 9545|\n",
      "| black| 8680|\n",
      "|  draw|  888|\n",
      "+------+-----+\n",
      "\n"
     ]
    }
   ],
   "source": [
    "df.groupBy('winner').count().show()"
   ]
  },
  {
   "cell_type": "code",
   "execution_count": 108,
   "metadata": {
    "ExecuteTime": {
     "end_time": "2019-10-28T11:17:10.276940Z",
     "start_time": "2019-10-28T11:17:03.379572Z"
    },
    "scrolled": true
   },
   "outputs": [
    {
     "data": {
      "image/png": "[encoded data removed]",
      "text/plain": [
       "<Figure size 360x360 with 1 Axes>"
      ]
     },
     "metadata": {},
     "output_type": "display_data"
    }
   ],
   "source": [
    "df.groupBy('winner').count().toPandas().plot.pie(y=\"count\", figsize=(5, 5), \n",
    "                                                labels=[\"White\", \"Black\", \"Draw\"], autopct='%.1f', \n",
    "                                                colors=[\"ivory\", \"slategrey\", \"springgreen\"], pctdistance=0.5,\n",
    "                                               textprops={\"size\":16}, explode=[0.1,0.1, 0.1],\n",
    "                                               shadow = True)\n",
    "plt.ylabel(\"\")\n",
    "plt.show()"
   ]
  },
  {
   "cell_type": "code",
   "execution_count": null,
   "metadata": {},
   "outputs": [],
   "source": []
  },
  {
   "cell_type": "code",
   "execution_count": 109,
   "metadata": {
    "ExecuteTime": {
     "end_time": "2019-10-28T11:17:15.241968Z",
     "start_time": "2019-10-28T11:17:10.281014Z"
    },
    "scrolled": true
   },
   "outputs": [
    {
     "name": "stdout",
     "output_type": "stream",
     "text": [
      "+--------------------+\n",
      "|               moves|\n",
      "+--------------------+\n",
      "|d4 c5 c3 cxd4 cxd...|\n",
      "|e4 c5 c3 Nc6 d4 c...|\n",
      "|e4 e5 Nf3 Nc6 d4 ...|\n",
      "|d4 d5 Nf3 Nf6 Bf4...|\n",
      "|e4 Nc6 d4 Nf6 e5 ...|\n",
      "|d4 Nf6 Nc3 d6 e4 ...|\n",
      "|d4 e6 c4 c5 d5 Qb...|\n",
      "|d4 f5 e3 Nf6 Nf3 ...|\n",
      "|d4 d5 c4 c6 Nf3 N...|\n",
      "|e4 e5 Nf3 Nc6 Bb5...|\n",
      "|d4 b6 Nf3 Bb7 e3 ...|\n",
      "|e4 e5 Nf3 d6 Nc3 ...|\n",
      "|e4 c5 Nf3 d6 d4 c...|\n",
      "|e4 e5 Nf3 Nc6 Bc4...|\n",
      "|e4 e5 Nf3 Nc6 Bc4...|\n",
      "|e4 Nc6 Bc4 Nf6 Nf...|\n",
      "|d3 e6 e3 Nc6 Nf3 ...|\n",
      "|e4 Nc6 d4 d5 e5 B...|\n",
      "|e4 h5 Nf3 g6 d4 e...|\n",
      "|e4 c5 Nf3 d6 Nc3 ...|\n",
      "+--------------------+\n",
      "only showing top 20 rows\n",
      "\n"
     ]
    }
   ],
   "source": [
    "df.select(\"moves\").show()"
   ]
  },
  {
   "cell_type": "code",
   "execution_count": 110,
   "metadata": {
    "ExecuteTime": {
     "end_time": "2019-10-28T11:17:19.954703Z",
     "start_time": "2019-10-28T11:17:15.245607Z"
    },
    "scrolled": true
   },
   "outputs": [
    {
     "name": "stdout",
     "output_type": "stream",
     "text": [
      "+--------+--------------------+---+----+\n",
      "|      id|               moves|pos| val|\n",
      "+--------+--------------------+---+----+\n",
      "|YopBjBqM|[d4, c5, c3, cxd4...|  0|  d4|\n",
      "|YopBjBqM|[d4, c5, c3, cxd4...|  1|  c5|\n",
      "|YopBjBqM|[d4, c5, c3, cxd4...|  2|  c3|\n",
      "|YopBjBqM|[d4, c5, c3, cxd4...|  3|cxd4|\n",
      "|YopBjBqM|[d4, c5, c3, cxd4...|  4|cxd4|\n",
      "|YopBjBqM|[d4, c5, c3, cxd4...|  5| Nf6|\n",
      "|YopBjBqM|[d4, c5, c3, cxd4...|  6| Nc3|\n",
      "|YopBjBqM|[d4, c5, c3, cxd4...|  7|  g6|\n",
      "|YopBjBqM|[d4, c5, c3, cxd4...|  8|  b3|\n",
      "|YopBjBqM|[d4, c5, c3, cxd4...|  9| Bg7|\n",
      "|YopBjBqM|[d4, c5, c3, cxd4...| 10| Bb2|\n",
      "|YopBjBqM|[d4, c5, c3, cxd4...| 11| O-O|\n",
      "|YopBjBqM|[d4, c5, c3, cxd4...| 12|  e3|\n",
      "|YopBjBqM|[d4, c5, c3, cxd4...| 13|  e6|\n",
      "|YopBjBqM|[d4, c5, c3, cxd4...| 14| Nf3|\n",
      "|YopBjBqM|[d4, c5, c3, cxd4...| 15|  a6|\n",
      "|YopBjBqM|[d4, c5, c3, cxd4...| 16| Be2|\n",
      "|YopBjBqM|[d4, c5, c3, cxd4...| 17|  d5|\n",
      "|YopBjBqM|[d4, c5, c3, cxd4...| 18| O-O|\n",
      "|YopBjBqM|[d4, c5, c3, cxd4...| 19| Nc6|\n",
      "+--------+--------------------+---+----+\n",
      "only showing top 20 rows\n",
      "\n"
     ]
    }
   ],
   "source": [
    "df.select(\n",
    "        \"id\",\n",
    "        f.split(\"moves\", \" \").alias(\"moves\"),\n",
    "        f.posexplode(f.split(\"moves\", \" \")).alias(\"pos\", \"val\")\n",
    "        ).show()"
   ]
  },
  {
   "cell_type": "code",
   "execution_count": 17,
   "metadata": {
    "ExecuteTime": {
     "end_time": "2019-10-29T07:58:03.554986Z",
     "start_time": "2019-10-29T07:58:03.525011Z"
    }
   },
   "outputs": [],
   "source": [
    "def funz_moves(value):\n",
    "    split_moves = value.split(\" \")\n",
    "    \n",
    "    if len(split_moves) >= 4:\n",
    "        fin = split_moves[:2] + split_moves[-2:]\n",
    "        fin = \" \".join(fin)\n",
    "        return fin\n",
    "    else:\n",
    "        split_moves = \" \".join(split_moves)\n",
    "        return split_moves\n",
    "\n",
    "udf_funz_moves = udf(funz_moves, StringType())\n",
    "\n",
    "df = df.withColumn(\"moves_new\", udf_funz_moves(\"moves\"))"
   ]
  },
  {
   "cell_type": "code",
   "execution_count": 48,
   "metadata": {
    "ExecuteTime": {
     "end_time": "2019-10-28T15:29:45.661555Z",
     "start_time": "2019-10-28T15:29:38.243858Z"
    },
    "scrolled": true
   },
   "outputs": [
    {
     "data": {
      "text/html": [
       "<div>\n",
       "<style scoped>\n",
       "    .dataframe tbody tr th:only-of-type {\n",
       "        vertical-align: middle;\n",
       "    }\n",
       "\n",
       "    .dataframe tbody tr th {\n",
       "        vertical-align: top;\n",
       "    }\n",
       "\n",
       "    .dataframe thead th {\n",
       "        text-align: right;\n",
       "    }\n",
       "</style>\n",
       "<table border=\"1\" class=\"dataframe\">\n",
       "  <thead>\n",
       "    <tr style=\"text-align: right;\">\n",
       "      <th></th>\n",
       "      <th>id</th>\n",
       "      <th>rated</th>\n",
       "      <th>turns</th>\n",
       "      <th>victory_status</th>\n",
       "      <th>winner</th>\n",
       "      <th>white_rating</th>\n",
       "      <th>black_rating</th>\n",
       "      <th>moves</th>\n",
       "      <th>opening_eco</th>\n",
       "      <th>opening_name</th>\n",
       "      <th>opening_ply</th>\n",
       "      <th>increment1</th>\n",
       "      <th>increment2</th>\n",
       "      <th>moves_new</th>\n",
       "    </tr>\n",
       "  </thead>\n",
       "  <tbody>\n",
       "    <tr>\n",
       "      <th>0</th>\n",
       "      <td>YopBjBqM</td>\n",
       "      <td>True</td>\n",
       "      <td>139</td>\n",
       "      <td>draw</td>\n",
       "      <td>draw</td>\n",
       "      <td>1736</td>\n",
       "      <td>1893</td>\n",
       "      <td>d4 c5 c3 cxd4 cxd4 Nf6 Nc3 g6 b3 Bg7 Bb2 O-O e...</td>\n",
       "      <td>A43</td>\n",
       "      <td>Old Benoni Defense</td>\n",
       "      <td>2</td>\n",
       "      <td>10</td>\n",
       "      <td>0</td>\n",
       "      <td>d4 c5 Rh3 Kd2</td>\n",
       "    </tr>\n",
       "    <tr>\n",
       "      <th>1</th>\n",
       "      <td>SipCSO1G</td>\n",
       "      <td>True</td>\n",
       "      <td>96</td>\n",
       "      <td>resign</td>\n",
       "      <td>black</td>\n",
       "      <td>2209</td>\n",
       "      <td>2044</td>\n",
       "      <td>e4 c5 c3 Nc6 d4 cxd4 cxd4 e6 Nc3 Bb4 Ne2 Nge7 ...</td>\n",
       "      <td>B22</td>\n",
       "      <td>Sicilian Defense: Alapin Variation</td>\n",
       "      <td>3</td>\n",
       "      <td>8</td>\n",
       "      <td>0</td>\n",
       "      <td>e4 c5 Re2 a3</td>\n",
       "    </tr>\n",
       "    <tr>\n",
       "      <th>2</th>\n",
       "      <td>tpi9ti3J</td>\n",
       "      <td>True</td>\n",
       "      <td>58</td>\n",
       "      <td>resign</td>\n",
       "      <td>black</td>\n",
       "      <td>1652</td>\n",
       "      <td>1624</td>\n",
       "      <td>e4 e5 Nf3 Nc6 d4 exd4 Nxd4 Bb4+ c3 Ba5 Nf5 Qf6...</td>\n",
       "      <td>C45</td>\n",
       "      <td>Scotch Game: Malaniuk Variation</td>\n",
       "      <td>8</td>\n",
       "      <td>6</td>\n",
       "      <td>8</td>\n",
       "      <td>e4 e5 h3 Bd5</td>\n",
       "    </tr>\n",
       "  </tbody>\n",
       "</table>\n",
       "</div>"
      ],
      "text/plain": [
       "         id rated  turns victory_status winner  white_rating  black_rating  \\\n",
       "0  YopBjBqM  True    139           draw   draw          1736          1893   \n",
       "1  SipCSO1G  True     96         resign  black          2209          2044   \n",
       "2  tpi9ti3J  True     58         resign  black          1652          1624   \n",
       "\n",
       "                                               moves opening_eco  \\\n",
       "0  d4 c5 c3 cxd4 cxd4 Nf6 Nc3 g6 b3 Bg7 Bb2 O-O e...         A43   \n",
       "1  e4 c5 c3 Nc6 d4 cxd4 cxd4 e6 Nc3 Bb4 Ne2 Nge7 ...         B22   \n",
       "2  e4 e5 Nf3 Nc6 d4 exd4 Nxd4 Bb4+ c3 Ba5 Nf5 Qf6...         C45   \n",
       "\n",
       "                         opening_name  opening_ply  increment1  increment2  \\\n",
       "0                  Old Benoni Defense            2          10           0   \n",
       "1  Sicilian Defense: Alapin Variation            3           8           0   \n",
       "2     Scotch Game: Malaniuk Variation            8           6           8   \n",
       "\n",
       "       moves_new  \n",
       "0  d4 c5 Rh3 Kd2  \n",
       "1   e4 c5 Re2 a3  \n",
       "2   e4 e5 h3 Bd5  "
      ]
     },
     "execution_count": 48,
     "metadata": {},
     "output_type": "execute_result"
    }
   ],
   "source": [
    "df.limit(3).toPandas()"
   ]
  },
  {
   "cell_type": "code",
   "execution_count": 18,
   "metadata": {
    "ExecuteTime": {
     "end_time": "2019-10-29T07:58:13.285771Z",
     "start_time": "2019-10-29T07:58:03.562026Z"
    }
   },
   "outputs": [],
   "source": [
    "df_split2 = df.select(\n",
    "        \"id\",\n",
    "        f.split(\"moves_new\", \" \").alias(\"moves_new\"),\n",
    "        f.posexplode(f.split(\"moves_new\", \" \")).alias(\"pos\", \"val\")\n",
    "    )\\\n",
    "    .drop(\"val\")\\\n",
    "    .select(\n",
    "        \"id\",\n",
    "        f.concat(f.lit(\"moves_new\"),f.col(\"pos\").cast(\"string\")).alias(\"name\"),\n",
    "        f.expr(\"moves_new[pos]\").alias(\"val\")\n",
    "    )\\\n",
    "    .groupBy(\"id\").pivot(\"name\").agg(f.first(\"val\"))\n",
    "    "
   ]
  },
  {
   "cell_type": "code",
   "execution_count": 19,
   "metadata": {
    "ExecuteTime": {
     "end_time": "2019-10-29T07:58:13.293924Z",
     "start_time": "2019-10-29T07:58:13.288886Z"
    },
    "scrolled": true
   },
   "outputs": [],
   "source": [
    "#column_list = ['id', 'rated', 'turns', 'victory_status', 'winner',\n",
    "# 'white_rating', 'black_rating', 'moves', 'opening_eco',\n",
    "# 'opening_name', 'opening_ply', 'increment1', 'increment2'] + \\\n",
    "#[\"moves{0}\".format(i) for i in range(349)]\n",
    "\n",
    "#column_list = [\"id\"] + [\"moves{0}\".format(i) for i in range(349)]\n",
    "column_list = [\"id\"] + [\"moves_new{0}\".format(i) for i in [0,1,2,3]]"
   ]
  },
  {
   "cell_type": "code",
   "execution_count": 20,
   "metadata": {
    "ExecuteTime": {
     "end_time": "2019-10-29T07:58:13.322126Z",
     "start_time": "2019-10-29T07:58:13.297522Z"
    }
   },
   "outputs": [],
   "source": [
    "df_split2 = df_split2.select(column_list)"
   ]
  },
  {
   "cell_type": "code",
   "execution_count": 21,
   "metadata": {
    "ExecuteTime": {
     "end_time": "2019-10-29T07:58:13.394216Z",
     "start_time": "2019-10-29T07:58:13.326005Z"
    }
   },
   "outputs": [],
   "source": [
    "df = df.join(df_split2, [\"id\"])\n",
    "df = df.drop(\"moves\")"
   ]
  },
  {
   "cell_type": "code",
   "execution_count": 22,
   "metadata": {
    "ExecuteTime": {
     "end_time": "2019-10-29T07:58:13.406908Z",
     "start_time": "2019-10-29T07:58:13.403186Z"
    }
   },
   "outputs": [],
   "source": [
    "#df.show(10)"
   ]
  },
  {
   "cell_type": "code",
   "execution_count": 23,
   "metadata": {
    "ExecuteTime": {
     "end_time": "2019-10-29T07:58:27.099339Z",
     "start_time": "2019-10-29T07:58:13.415836Z"
    }
   },
   "outputs": [
    {
     "name": "stdout",
     "output_type": "stream",
     "text": [
      "19113\n",
      "17\n"
     ]
    }
   ],
   "source": [
    "print(df.count())\n",
    "print(len(df.columns))"
   ]
  },
  {
   "cell_type": "code",
   "execution_count": 145,
   "metadata": {
    "ExecuteTime": {
     "end_time": "2019-10-28T12:47:55.974450Z",
     "start_time": "2019-10-28T12:47:44.987707Z"
    }
   },
   "outputs": [
    {
     "name": "stdout",
     "output_type": "stream",
     "text": [
      "+-------+------------------+\n",
      "|summary|             turns|\n",
      "+-------+------------------+\n",
      "|  count|             19113|\n",
      "|   mean|60.513838748495786|\n",
      "| stddev| 33.48826396268022|\n",
      "|    min|                 1|\n",
      "|    max|               349|\n",
      "+-------+------------------+\n",
      "\n"
     ]
    }
   ],
   "source": [
    "df.select(\"turns\").describe().show()"
   ]
  },
  {
   "cell_type": "code",
   "execution_count": 34,
   "metadata": {
    "ExecuteTime": {
     "end_time": "2019-10-28T10:14:03.932220Z",
     "start_time": "2019-10-28T10:13:52.272357Z"
    },
    "scrolled": true
   },
   "outputs": [
    {
     "data": {
      "image/png": "[encoded data removed]",
      "text/plain": [
       "<Figure size 1080x360 with 1 Axes>"
      ]
     },
     "metadata": {
      "needs_background": "light"
     },
     "output_type": "display_data"
    }
   ],
   "source": [
    "df.select(\"turns\").toPandas().plot(kind=\"hist\", figsize=(15,5), bins=40, edgecolor=\"black\", alpha=0.8, legend=None)\n",
    "plt.title(\"Distribution of the number of Turns\")\n",
    "plt.xlabel(\"Turns\")\n",
    "plt.show()"
   ]
  },
  {
   "cell_type": "code",
   "execution_count": 35,
   "metadata": {
    "ExecuteTime": {
     "end_time": "2019-10-28T10:14:15.254082Z",
     "start_time": "2019-10-28T10:14:03.940870Z"
    }
   },
   "outputs": [
    {
     "name": "stdout",
     "output_type": "stream",
     "text": [
      "+-------+------------------+\n",
      "|summary|       opening_ply|\n",
      "+-------+------------------+\n",
      "|  count|             19113|\n",
      "|   mean| 4.815779835713912|\n",
      "| stddev|2.7982829080050102|\n",
      "|    min|                 1|\n",
      "|    max|                28|\n",
      "+-------+------------------+\n",
      "\n"
     ]
    }
   ],
   "source": [
    "df.select(\"opening_ply\").describe().show()"
   ]
  },
  {
   "cell_type": "code",
   "execution_count": 36,
   "metadata": {
    "ExecuteTime": {
     "end_time": "2019-10-28T10:14:29.048618Z",
     "start_time": "2019-10-28T10:14:15.257817Z"
    }
   },
   "outputs": [
    {
     "data": {
      "image/png": "[encoded data removed]",
      "text/plain": [
       "<Figure size 1080x360 with 1 Axes>"
      ]
     },
     "metadata": {
      "needs_background": "light"
     },
     "output_type": "display_data"
    }
   ],
   "source": [
    "df.select(\"opening_ply\").toPandas().plot(kind=\"hist\", figsize=(15,5), bins=27, color=\"lime\",\n",
    "                                         edgecolor=\"black\", alpha=0.4, legend=None)\n",
    "plt.title(\"Distribution of the number of moves in the opening phase\")\n",
    "plt.xticks([1.5, 2.5, 3.5, 4.5, 5.5, 6.5, 7.5, 8.5, 9.5, 10.5,11.5,12.5,13.5,14.5,15.5,20.5, 25.5,28.5], \n",
    "           [1,2,3,4,5,6,7,8,9,10,11,12,13,14,15,20,25,28])\n",
    "plt.xlabel(\"n° moves\")\n",
    "plt.show()"
   ]
  },
  {
   "cell_type": "code",
   "execution_count": 37,
   "metadata": {
    "ExecuteTime": {
     "end_time": "2019-10-28T10:14:41.019204Z",
     "start_time": "2019-10-28T10:14:29.054162Z"
    },
    "scrolled": true
   },
   "outputs": [
    {
     "data": {
      "image/png": "[encoded data removed]",
      "text/plain": [
       "<Figure size 1152x360 with 1 Axes>"
      ]
     },
     "metadata": {
      "needs_background": "light"
     },
     "output_type": "display_data"
    }
   ],
   "source": [
    "import matplotlib.colors as mcolors\n",
    "clist = [(0, \"red\"), (0.125, \"red\"), (0.25, \"orange\"), (0.5, \"green\"), \n",
    "         (0.7, \"green\"), (0.75, \"blue\"), (1, \"blue\")]\n",
    "rvb = mcolors.LinearSegmentedColormap.from_list(\"\", clist)\n",
    "\n",
    "N = 50\n",
    "x = np.arange(N).astype(float)\n",
    "y = np.random.uniform(0, 5, size=(N,))\n",
    "\n",
    "\n",
    "df.select(\"opening_eco\").toPandas()[\"opening_eco\"].value_counts().iloc[:N].plot(kind=\"bar\", \n",
    "                                                                                 figsize=(16,5),\n",
    "                                                                                 color=rvb(x/N) )\n",
    "plt.title(\"Most frequent opening plays\")\n",
    "plt.xlabel(\"Opening play code\")\n",
    "plt.show()"
   ]
  },
  {
   "cell_type": "code",
   "execution_count": 38,
   "metadata": {
    "ExecuteTime": {
     "end_time": "2019-10-28T10:14:52.137441Z",
     "start_time": "2019-10-28T10:14:41.026532Z"
    }
   },
   "outputs": [
    {
     "name": "stdout",
     "output_type": "stream",
     "text": [
      "+-------+------------------+\n",
      "|summary|        increment1|\n",
      "+-------+------------------+\n",
      "|  count|             19113|\n",
      "|   mean|13.785277036571967|\n",
      "| stddev|17.072446733601073|\n",
      "|    min|                 0|\n",
      "|    max|               180|\n",
      "+-------+------------------+\n",
      "\n"
     ]
    }
   ],
   "source": [
    "df.select(\"increment1\").describe().show()"
   ]
  },
  {
   "cell_type": "code",
   "execution_count": 39,
   "metadata": {
    "ExecuteTime": {
     "end_time": "2019-10-28T10:15:03.152908Z",
     "start_time": "2019-10-28T10:14:52.142566Z"
    }
   },
   "outputs": [
    {
     "data": {
      "image/png": "[encoded data removed]",
      "text/plain": [
       "<Figure size 1080x360 with 1 Axes>"
      ]
     },
     "metadata": {
      "needs_background": "light"
     },
     "output_type": "display_data"
    }
   ],
   "source": [
    "df.select(\"increment1\").toPandas().plot(kind=\"hist\", figsize=(15,5), color=\"blueviolet\",\n",
    "                                        bins=25, edgecolor=\"black\", alpha=0.8, legend=None)\n",
    "plt.title(\"Distribution of increment1\")\n",
    "plt.xlabel(\"Increment1 (min)\")\n",
    "plt.show()"
   ]
  },
  {
   "cell_type": "code",
   "execution_count": 40,
   "metadata": {
    "ExecuteTime": {
     "end_time": "2019-10-28T10:15:13.748690Z",
     "start_time": "2019-10-28T10:15:03.159916Z"
    }
   },
   "outputs": [
    {
     "name": "stdout",
     "output_type": "stream",
     "text": [
      "+-------+------------------+\n",
      "|summary|        increment2|\n",
      "+-------+------------------+\n",
      "|  count|             19113|\n",
      "|   mean|5.1464971485376445|\n",
      "| stddev|13.808620253370899|\n",
      "|    min|                 0|\n",
      "|    max|               180|\n",
      "+-------+------------------+\n",
      "\n"
     ]
    }
   ],
   "source": [
    "df.select(\"increment2\").describe().show()"
   ]
  },
  {
   "cell_type": "code",
   "execution_count": 41,
   "metadata": {
    "ExecuteTime": {
     "end_time": "2019-10-28T10:15:25.896486Z",
     "start_time": "2019-10-28T10:15:13.754993Z"
    }
   },
   "outputs": [
    {
     "data": {
      "image/png": "[encoded data removed]",
      "text/plain": [
       "<Figure size 1080x360 with 1 Axes>"
      ]
     },
     "metadata": {
      "needs_background": "light"
     },
     "output_type": "display_data"
    }
   ],
   "source": [
    "df.select(\"increment2\").toPandas().plot(kind=\"hist\", figsize=(15,5), color=\"burlywood\",\n",
    "                                        bins=25, edgecolor=\"black\", alpha=0.8, legend=None)\n",
    "plt.title(\"Distribution of increment2\")\n",
    "plt.xlabel(\"Increment2 (sec)\")\n",
    "plt.show()"
   ]
  },
  {
   "cell_type": "code",
   "execution_count": 42,
   "metadata": {
    "ExecuteTime": {
     "end_time": "2019-10-28T10:15:38.761189Z",
     "start_time": "2019-10-28T10:15:25.917207Z"
    },
    "scrolled": false
   },
   "outputs": [
    {
     "data": {
      "image/png": "[encoded data removed]",
      "text/plain": [
       "<Figure size 1080x432 with 4 Axes>"
      ]
     },
     "metadata": {
      "needs_background": "light"
     },
     "output_type": "display_data"
    }
   ],
   "source": [
    "# Draw Plot\n",
    "fig, axes = joypy.joyplot(df.select(\"white_rating\", \"black_rating\", \"winner\").toPandas(), \n",
    "                          column=['white_rating', 'black_rating'],by = \"winner\", ylim='own', \n",
    "                          color=[\"grey\", \"olive\"], legend=True,\n",
    "                          figsize=(15,6), alpha=0.5)\n",
    "\n",
    "# Decoration\n",
    "\n",
    "plt.title('Joy Plot of Black and White Rating', fontsize=22)\n",
    "plt.show()"
   ]
  },
  {
   "cell_type": "code",
   "execution_count": 146,
   "metadata": {
    "ExecuteTime": {
     "end_time": "2019-10-28T12:48:33.561558Z",
     "start_time": "2019-10-28T12:48:21.223987Z"
    }
   },
   "outputs": [
    {
     "name": "stdout",
     "output_type": "stream",
     "text": [
      "+------+------------------+------------------+\n",
      "|winner| avg(white_rating)| avg(black_rating)|\n",
      "+------+------------------+------------------+\n",
      "| white|1634.7327396542692|1540.4346778418019|\n",
      "| black|1550.8154377880185| 1639.265668202765|\n",
      "|  draw|1649.3164414414414|1642.1903153153153|\n",
      "+------+------------------+------------------+\n",
      "\n"
     ]
    }
   ],
   "source": [
    "df.groupby(\"winner\").mean().select([\"winner\",\"avg(white_rating)\", \"avg(black_rating)\"]).show()"
   ]
  },
  {
   "cell_type": "code",
   "execution_count": 45,
   "metadata": {
    "ExecuteTime": {
     "end_time": "2019-10-28T10:15:58.584181Z",
     "start_time": "2019-10-28T10:15:58.494466Z"
    }
   },
   "outputs": [],
   "source": [
    "#df.createTempView(\"dataframe\")"
   ]
  },
  {
   "cell_type": "code",
   "execution_count": 46,
   "metadata": {
    "ExecuteTime": {
     "end_time": "2019-10-28T10:16:45.327435Z",
     "start_time": "2019-10-28T10:16:00.083151Z"
    }
   },
   "outputs": [],
   "source": [
    "df_tt1 = spark.sql(\"select white_rating, black_rating from dataframe where winner = '{0}'\".format(\"white\")).toPandas()\n",
    "df_tt2 = spark.sql(\"select white_rating, black_rating from dataframe where winner = '{0}'\".format(\"black\")).toPandas()\n",
    "df_tt3 = spark.sql(\"select white_rating, black_rating from dataframe where winner = '{0}'\".format(\"draw\")).toPandas()"
   ]
  },
  {
   "cell_type": "code",
   "execution_count": 47,
   "metadata": {
    "ExecuteTime": {
     "end_time": "2019-10-28T10:16:45.343059Z",
     "start_time": "2019-10-28T10:16:45.329886Z"
    },
    "scrolled": true
   },
   "outputs": [
    {
     "name": "stdout",
     "output_type": "stream",
     "text": [
      "Ttest_indResult(statistic=22.837035036935784, pvalue=6.591467723433094e-114)\n",
      "Ttest_indResult(statistic=-20.374237387648417, pvalue=3.2960912165480816e-91)\n",
      "Ttest_indResult(statistic=0.49189177002182255, pvalue=0.6228567156066165)\n"
     ]
    }
   ],
   "source": [
    "print(scipy.stats.ttest_ind(df_tt1.white_rating, df_tt1.black_rating))\n",
    "print(scipy.stats.ttest_ind(df_tt2.white_rating, df_tt2.black_rating))\n",
    "print(scipy.stats.ttest_ind(df_tt3.white_rating, df_tt3.black_rating))"
   ]
  },
  {
   "cell_type": "code",
   "execution_count": null,
   "metadata": {},
   "outputs": [],
   "source": []
  },
  {
   "cell_type": "code",
   "execution_count": 50,
   "metadata": {
    "ExecuteTime": {
     "end_time": "2019-10-28T10:18:05.812536Z",
     "start_time": "2019-10-28T10:17:41.384667Z"
    }
   },
   "outputs": [],
   "source": [
    "ct = pd.crosstab(df.select(\"opening_eco\").toPandas()[\"opening_eco\"], \n",
    "                 df.select(\"opening_name\").toPandas()[\"opening_name\"])"
   ]
  },
  {
   "cell_type": "code",
   "execution_count": 51,
   "metadata": {
    "ExecuteTime": {
     "end_time": "2019-10-28T10:18:05.847177Z",
     "start_time": "2019-10-28T10:18:05.815596Z"
    }
   },
   "outputs": [
    {
     "data": {
      "text/html": [
       "<div>\n",
       "<style scoped>\n",
       "    .dataframe tbody tr th:only-of-type {\n",
       "        vertical-align: middle;\n",
       "    }\n",
       "\n",
       "    .dataframe tbody tr th {\n",
       "        vertical-align: top;\n",
       "    }\n",
       "\n",
       "    .dataframe thead th {\n",
       "        text-align: right;\n",
       "    }\n",
       "</style>\n",
       "<table border=\"1\" class=\"dataframe\">\n",
       "  <thead>\n",
       "    <tr style=\"text-align: right;\">\n",
       "      <th>opening_name</th>\n",
       "      <th>Alekhine Defense</th>\n",
       "      <th>Alekhine Defense #2</th>\n",
       "      <th>Alekhine Defense #3</th>\n",
       "      <th>Alekhine Defense: Balogh Variation</th>\n",
       "      <th>Alekhine Defense: Brooklyn Variation</th>\n",
       "      <th>Alekhine Defense: Exchange Variation</th>\n",
       "      <th>Alekhine Defense: Four Pawns Attack</th>\n",
       "      <th>Alekhine Defense: Four Pawns Attack |  6...Nc6</th>\n",
       "      <th>Alekhine Defense: Four Pawns Attack |  Fianchetto Variation</th>\n",
       "      <th>Alekhine Defense: Four Pawns Attack |  Main Line</th>\n",
       "      <th>...</th>\n",
       "      <th>Zukertort Opening: Quiet System</th>\n",
       "      <th>Zukertort Opening: Reversed Mexican Defense</th>\n",
       "      <th>Zukertort Opening: Ross Gambit</th>\n",
       "      <th>Zukertort Opening: Santasiere's Folly</th>\n",
       "      <th>Zukertort Opening: Sicilian Invitation</th>\n",
       "      <th>Zukertort Opening: Slav Invitation</th>\n",
       "      <th>Zukertort Opening: Tennison Gambit</th>\n",
       "      <th>Zukertort Opening: The Walrus</th>\n",
       "      <th>Zukertort Opening: Vos Gambit</th>\n",
       "      <th>Zukertort Opening: Wade Defense</th>\n",
       "    </tr>\n",
       "    <tr>\n",
       "      <th>opening_eco</th>\n",
       "      <th></th>\n",
       "      <th></th>\n",
       "      <th></th>\n",
       "      <th></th>\n",
       "      <th></th>\n",
       "      <th></th>\n",
       "      <th></th>\n",
       "      <th></th>\n",
       "      <th></th>\n",
       "      <th></th>\n",
       "      <th></th>\n",
       "      <th></th>\n",
       "      <th></th>\n",
       "      <th></th>\n",
       "      <th></th>\n",
       "      <th></th>\n",
       "      <th></th>\n",
       "      <th></th>\n",
       "      <th></th>\n",
       "      <th></th>\n",
       "      <th></th>\n",
       "    </tr>\n",
       "  </thead>\n",
       "  <tbody>\n",
       "    <tr>\n",
       "      <th>A00</th>\n",
       "      <td>0</td>\n",
       "      <td>0</td>\n",
       "      <td>0</td>\n",
       "      <td>0</td>\n",
       "      <td>0</td>\n",
       "      <td>0</td>\n",
       "      <td>0</td>\n",
       "      <td>0</td>\n",
       "      <td>0</td>\n",
       "      <td>0</td>\n",
       "      <td>...</td>\n",
       "      <td>0</td>\n",
       "      <td>0</td>\n",
       "      <td>0</td>\n",
       "      <td>0</td>\n",
       "      <td>0</td>\n",
       "      <td>0</td>\n",
       "      <td>0</td>\n",
       "      <td>0</td>\n",
       "      <td>0</td>\n",
       "      <td>0</td>\n",
       "    </tr>\n",
       "    <tr>\n",
       "      <th>A01</th>\n",
       "      <td>0</td>\n",
       "      <td>0</td>\n",
       "      <td>0</td>\n",
       "      <td>0</td>\n",
       "      <td>0</td>\n",
       "      <td>0</td>\n",
       "      <td>0</td>\n",
       "      <td>0</td>\n",
       "      <td>0</td>\n",
       "      <td>0</td>\n",
       "      <td>...</td>\n",
       "      <td>0</td>\n",
       "      <td>0</td>\n",
       "      <td>0</td>\n",
       "      <td>0</td>\n",
       "      <td>0</td>\n",
       "      <td>0</td>\n",
       "      <td>0</td>\n",
       "      <td>0</td>\n",
       "      <td>0</td>\n",
       "      <td>0</td>\n",
       "    </tr>\n",
       "  </tbody>\n",
       "</table>\n",
       "<p>2 rows × 1477 columns</p>\n",
       "</div>"
      ],
      "text/plain": [
       "opening_name  Alekhine Defense  Alekhine Defense #2  Alekhine Defense #3  \\\n",
       "opening_eco                                                                \n",
       "A00                          0                    0                    0   \n",
       "A01                          0                    0                    0   \n",
       "\n",
       "opening_name  Alekhine Defense: Balogh Variation  \\\n",
       "opening_eco                                        \n",
       "A00                                            0   \n",
       "A01                                            0   \n",
       "\n",
       "opening_name  Alekhine Defense: Brooklyn Variation  \\\n",
       "opening_eco                                          \n",
       "A00                                              0   \n",
       "A01                                              0   \n",
       "\n",
       "opening_name  Alekhine Defense: Exchange Variation  \\\n",
       "opening_eco                                          \n",
       "A00                                              0   \n",
       "A01                                              0   \n",
       "\n",
       "opening_name  Alekhine Defense: Four Pawns Attack  \\\n",
       "opening_eco                                         \n",
       "A00                                             0   \n",
       "A01                                             0   \n",
       "\n",
       "opening_name  Alekhine Defense: Four Pawns Attack |  6...Nc6  \\\n",
       "opening_eco                                                    \n",
       "A00                                                        0   \n",
       "A01                                                        0   \n",
       "\n",
       "opening_name  Alekhine Defense: Four Pawns Attack |  Fianchetto Variation  \\\n",
       "opening_eco                                                                 \n",
       "A00                                                           0             \n",
       "A01                                                           0             \n",
       "\n",
       "opening_name  Alekhine Defense: Four Pawns Attack |  Main Line  ...  \\\n",
       "opening_eco                                                     ...   \n",
       "A00                                                          0  ...   \n",
       "A01                                                          0  ...   \n",
       "\n",
       "opening_name  Zukertort Opening: Quiet System  \\\n",
       "opening_eco                                     \n",
       "A00                                         0   \n",
       "A01                                         0   \n",
       "\n",
       "opening_name  Zukertort Opening: Reversed Mexican Defense  \\\n",
       "opening_eco                                                 \n",
       "A00                                                     0   \n",
       "A01                                                     0   \n",
       "\n",
       "opening_name  Zukertort Opening: Ross Gambit  \\\n",
       "opening_eco                                    \n",
       "A00                                        0   \n",
       "A01                                        0   \n",
       "\n",
       "opening_name  Zukertort Opening: Santasiere's Folly  \\\n",
       "opening_eco                                           \n",
       "A00                                               0   \n",
       "A01                                               0   \n",
       "\n",
       "opening_name  Zukertort Opening: Sicilian Invitation  \\\n",
       "opening_eco                                            \n",
       "A00                                                0   \n",
       "A01                                                0   \n",
       "\n",
       "opening_name  Zukertort Opening: Slav Invitation  \\\n",
       "opening_eco                                        \n",
       "A00                                            0   \n",
       "A01                                            0   \n",
       "\n",
       "opening_name  Zukertort Opening: Tennison Gambit  \\\n",
       "opening_eco                                        \n",
       "A00                                            0   \n",
       "A01                                            0   \n",
       "\n",
       "opening_name  Zukertort Opening: The Walrus  Zukertort Opening: Vos Gambit  \\\n",
       "opening_eco                                                                  \n",
       "A00                                       0                              0   \n",
       "A01                                       0                              0   \n",
       "\n",
       "opening_name  Zukertort Opening: Wade Defense  \n",
       "opening_eco                                    \n",
       "A00                                         0  \n",
       "A01                                         0  \n",
       "\n",
       "[2 rows x 1477 columns]"
      ]
     },
     "execution_count": 51,
     "metadata": {},
     "output_type": "execute_result"
    }
   ],
   "source": [
    "ct.head(2)"
   ]
  },
  {
   "cell_type": "code",
   "execution_count": 52,
   "metadata": {
    "ExecuteTime": {
     "end_time": "2019-10-28T10:18:06.011892Z",
     "start_time": "2019-10-28T10:18:05.852958Z"
    },
    "scrolled": true
   },
   "outputs": [],
   "source": [
    "list_incongr = []\n",
    "z = ct.apply(Counter).values\n",
    "for i, elem in enumerate(z):\n",
    "    if elem[0]!=364:\n",
    "        list_incongr.append(i)"
   ]
  },
  {
   "cell_type": "code",
   "execution_count": 53,
   "metadata": {
    "ExecuteTime": {
     "end_time": "2019-10-28T10:18:06.023495Z",
     "start_time": "2019-10-28T10:18:06.015424Z"
    },
    "scrolled": true
   },
   "outputs": [],
   "source": [
    "ct2 = ct.iloc[:, list_incongr].T"
   ]
  },
  {
   "cell_type": "code",
   "execution_count": 54,
   "metadata": {
    "ExecuteTime": {
     "end_time": "2019-10-28T10:18:06.192390Z",
     "start_time": "2019-10-28T10:18:06.031987Z"
    }
   },
   "outputs": [],
   "source": [
    "list_incongr_col = [i for i in range(365) if ct2.sum().iloc[i]!=0]"
   ]
  },
  {
   "cell_type": "code",
   "execution_count": 55,
   "metadata": {
    "ExecuteTime": {
     "end_time": "2019-10-28T10:18:06.230623Z",
     "start_time": "2019-10-28T10:18:06.196606Z"
    },
    "scrolled": true
   },
   "outputs": [
    {
     "data": {
      "text/html": [
       "<div>\n",
       "<style scoped>\n",
       "    .dataframe tbody tr th:only-of-type {\n",
       "        vertical-align: middle;\n",
       "    }\n",
       "\n",
       "    .dataframe tbody tr th {\n",
       "        vertical-align: top;\n",
       "    }\n",
       "\n",
       "    .dataframe thead th {\n",
       "        text-align: right;\n",
       "    }\n",
       "</style>\n",
       "<table border=\"1\" class=\"dataframe\">\n",
       "  <thead>\n",
       "    <tr style=\"text-align: right;\">\n",
       "      <th>opening_eco</th>\n",
       "      <th>A02</th>\n",
       "      <th>A03</th>\n",
       "      <th>A04</th>\n",
       "      <th>A06</th>\n",
       "      <th>A07</th>\n",
       "      <th>A08</th>\n",
       "      <th>A09</th>\n",
       "      <th>A20</th>\n",
       "      <th>A21</th>\n",
       "      <th>A34</th>\n",
       "      <th>...</th>\n",
       "      <th>D45</th>\n",
       "      <th>D46</th>\n",
       "      <th>D52</th>\n",
       "      <th>D74</th>\n",
       "      <th>D76</th>\n",
       "      <th>E01</th>\n",
       "      <th>E06</th>\n",
       "      <th>E12</th>\n",
       "      <th>E91</th>\n",
       "      <th>E94</th>\n",
       "    </tr>\n",
       "    <tr>\n",
       "      <th>opening_name</th>\n",
       "      <th></th>\n",
       "      <th></th>\n",
       "      <th></th>\n",
       "      <th></th>\n",
       "      <th></th>\n",
       "      <th></th>\n",
       "      <th></th>\n",
       "      <th></th>\n",
       "      <th></th>\n",
       "      <th></th>\n",
       "      <th></th>\n",
       "      <th></th>\n",
       "      <th></th>\n",
       "      <th></th>\n",
       "      <th></th>\n",
       "      <th></th>\n",
       "      <th></th>\n",
       "      <th></th>\n",
       "      <th></th>\n",
       "      <th></th>\n",
       "      <th></th>\n",
       "    </tr>\n",
       "  </thead>\n",
       "  <tbody>\n",
       "    <tr>\n",
       "      <th>Alekhine Defense</th>\n",
       "      <td>0</td>\n",
       "      <td>0</td>\n",
       "      <td>0</td>\n",
       "      <td>0</td>\n",
       "      <td>0</td>\n",
       "      <td>0</td>\n",
       "      <td>0</td>\n",
       "      <td>0</td>\n",
       "      <td>0</td>\n",
       "      <td>0</td>\n",
       "      <td>...</td>\n",
       "      <td>0</td>\n",
       "      <td>0</td>\n",
       "      <td>0</td>\n",
       "      <td>0</td>\n",
       "      <td>0</td>\n",
       "      <td>0</td>\n",
       "      <td>0</td>\n",
       "      <td>0</td>\n",
       "      <td>0</td>\n",
       "      <td>0</td>\n",
       "    </tr>\n",
       "    <tr>\n",
       "      <th>Bird Opening</th>\n",
       "      <td>58</td>\n",
       "      <td>11</td>\n",
       "      <td>0</td>\n",
       "      <td>0</td>\n",
       "      <td>0</td>\n",
       "      <td>0</td>\n",
       "      <td>0</td>\n",
       "      <td>0</td>\n",
       "      <td>0</td>\n",
       "      <td>0</td>\n",
       "      <td>...</td>\n",
       "      <td>0</td>\n",
       "      <td>0</td>\n",
       "      <td>0</td>\n",
       "      <td>0</td>\n",
       "      <td>0</td>\n",
       "      <td>0</td>\n",
       "      <td>0</td>\n",
       "      <td>0</td>\n",
       "      <td>0</td>\n",
       "      <td>0</td>\n",
       "    </tr>\n",
       "    <tr>\n",
       "      <th>Borg Defense: Borg Gambit</th>\n",
       "      <td>0</td>\n",
       "      <td>0</td>\n",
       "      <td>0</td>\n",
       "      <td>0</td>\n",
       "      <td>0</td>\n",
       "      <td>0</td>\n",
       "      <td>0</td>\n",
       "      <td>0</td>\n",
       "      <td>0</td>\n",
       "      <td>0</td>\n",
       "      <td>...</td>\n",
       "      <td>0</td>\n",
       "      <td>0</td>\n",
       "      <td>0</td>\n",
       "      <td>0</td>\n",
       "      <td>0</td>\n",
       "      <td>0</td>\n",
       "      <td>0</td>\n",
       "      <td>0</td>\n",
       "      <td>0</td>\n",
       "      <td>0</td>\n",
       "    </tr>\n",
       "  </tbody>\n",
       "</table>\n",
       "<p>3 rows × 101 columns</p>\n",
       "</div>"
      ],
      "text/plain": [
       "opening_eco                A02  A03  A04  A06  A07  A08  A09  A20  A21  A34  \\\n",
       "opening_name                                                                  \n",
       "Alekhine Defense             0    0    0    0    0    0    0    0    0    0   \n",
       "Bird Opening                58   11    0    0    0    0    0    0    0    0   \n",
       "Borg Defense: Borg Gambit    0    0    0    0    0    0    0    0    0    0   \n",
       "\n",
       "opening_eco                ...  D45  D46  D52  D74  D76  E01  E06  E12  E91  \\\n",
       "opening_name               ...                                                \n",
       "Alekhine Defense           ...    0    0    0    0    0    0    0    0    0   \n",
       "Bird Opening               ...    0    0    0    0    0    0    0    0    0   \n",
       "Borg Defense: Borg Gambit  ...    0    0    0    0    0    0    0    0    0   \n",
       "\n",
       "opening_eco                E94  \n",
       "opening_name                    \n",
       "Alekhine Defense             0  \n",
       "Bird Opening                 0  \n",
       "Borg Defense: Borg Gambit    0  \n",
       "\n",
       "[3 rows x 101 columns]"
      ]
     },
     "execution_count": 55,
     "metadata": {},
     "output_type": "execute_result"
    }
   ],
   "source": [
    "ct3 = ct.iloc[list_incongr_col, list_incongr].T\n",
    "ct3.head(3)"
   ]
  },
  {
   "cell_type": "code",
   "execution_count": 56,
   "metadata": {
    "ExecuteTime": {
     "end_time": "2019-10-28T10:18:06.246498Z",
     "start_time": "2019-10-28T10:18:06.238668Z"
    }
   },
   "outputs": [],
   "source": [
    "#df.toPandas().head(2)"
   ]
  },
  {
   "cell_type": "code",
   "execution_count": 147,
   "metadata": {
    "ExecuteTime": {
     "end_time": "2019-10-28T12:49:14.422311Z",
     "start_time": "2019-10-28T12:48:57.278460Z"
    }
   },
   "outputs": [
    {
     "data": {
      "image/png": "[encoded data removed]",
      "text/plain": [
       "<Figure size 1080x360 with 1 Axes>"
      ]
     },
     "metadata": {
      "needs_background": "light"
     },
     "output_type": "display_data"
    }
   ],
   "source": [
    "def subcategorybar(X, vals, width=0.8):\n",
    "    plt.figure(figsize=(15,5))\n",
    "    n = len(vals)\n",
    "    _X = np.arange(len(X))\n",
    "    labels=[\"white\", \"black\"]\n",
    "    for i in range(n):\n",
    "        plt.bar(_X - width/2. + i/float(n)*width, vals[i]/vals[i].sum(), \n",
    "                width=width/float(n), align=\"edge\", label=labels[i], \n",
    "                color=labels[i], edgecolor=\"black\")   \n",
    "    plt.xticks(_X, X)\n",
    "    plt.legend()\n",
    "\n",
    "def moves_win(name_col):\n",
    "    df_pd = df.select(name_col, \"winner\").toPandas()    \n",
    "\n",
    "    X = list(df_pd[df_pd.winner == \"white\"][\"{0}\".format(name_col)].value_counts().index)\n",
    "    X2 = list(df_pd[df_pd.winner == \"black\"][\"{0}\".format(name_col)].value_counts().index)\n",
    "    \n",
    "    list_uncommon1 = [i for i in X if i not in X2] \n",
    "    list_uncommon2 = [i for i in X2 if i not in X]\n",
    "    \n",
    "    X_mod = X + list_uncommon2\n",
    "    \n",
    "    if len(list_uncommon2) == 0:\n",
    "        \n",
    "        Y = df_pd[df_pd.winner == \"white\"][\"{0}\".format(name_col)].value_counts().reindex(X_mod).values\n",
    "    \n",
    "    else:\n",
    "        \n",
    "        for i in range(len(list_uncommon2)):\n",
    "            Y = df_pd[df_pd.winner == \"white\"][\"{0}\".format(name_col)].\\\n",
    "            value_counts().append(pd.Series([0], [list_uncommon2[i]]))\n",
    "        \n",
    "        Y = Y.reindex(X_mod).values\n",
    "    \n",
    "    if len(list_uncommon1) == 0:\n",
    "        \n",
    "        Z = df_pd[df_pd.winner == \"black\"][\"{0}\".format(name_col)].value_counts().reindex(X_mod).values\n",
    "    \n",
    "    else:\n",
    "        \n",
    "        for i in range(len(list_uncommon1)):\n",
    "            Z = df_pd[df_pd.winner == \"black\"][\"{0}\".format(name_col)].\\\n",
    "            value_counts().append(pd.Series([0], [list_uncommon1[i]]))\n",
    "        \n",
    "        Z = Z.reindex(X_mod).values\n",
    "\n",
    "    subcategorybar(X_mod, [Y,Z])\n",
    "    \n",
    "    plt.show()\n",
    "    \n",
    "moves_win(\"moves_new0\")"
   ]
  },
  {
   "cell_type": "code",
   "execution_count": 148,
   "metadata": {
    "ExecuteTime": {
     "end_time": "2019-10-28T12:49:34.288941Z",
     "start_time": "2019-10-28T12:49:17.674162Z"
    },
    "scrolled": false
   },
   "outputs": [
    {
     "data": {
      "image/png": "[encoded data removed]",
      "text/plain": [
       "<Figure size 1080x360 with 1 Axes>"
      ]
     },
     "metadata": {
      "needs_background": "light"
     },
     "output_type": "display_data"
    }
   ],
   "source": [
    "moves_win(\"moves_new1\")"
   ]
  },
  {
   "cell_type": "code",
   "execution_count": 149,
   "metadata": {
    "ExecuteTime": {
     "end_time": "2019-10-28T12:49:46.771655Z",
     "start_time": "2019-10-28T12:49:34.293147Z"
    }
   },
   "outputs": [
    {
     "name": "stdout",
     "output_type": "stream",
     "text": [
      "+------+-----------------+------------------+\n",
      "|winner| avg(opening_ply)|        avg(turns)|\n",
      "+------+-----------------+------------------+\n",
      "| white|4.849449973808277| 57.77852278679937|\n",
      "| black|4.748271889400922|60.795852534562215|\n",
      "|  draw|5.113738738738738| 87.15878378378379|\n",
      "+------+-----------------+------------------+\n",
      "\n"
     ]
    }
   ],
   "source": [
    "df.groupby(\"winner\").avg().select(\"winner\", \"avg(opening_ply)\", \"avg(turns)\").show()"
   ]
  },
  {
   "cell_type": "code",
   "execution_count": 150,
   "metadata": {
    "ExecuteTime": {
     "end_time": "2019-10-28T12:49:58.819438Z",
     "start_time": "2019-10-28T12:49:46.775568Z"
    }
   },
   "outputs": [
    {
     "name": "stdout",
     "output_type": "stream",
     "text": [
      "+--------------+-----------------+-----------------+\n",
      "|victory_status| avg(opening_ply)|       avg(turns)|\n",
      "+--------------+-----------------+-----------------+\n",
      "|        resign|4.993174380551659|53.91182795698925|\n",
      "|     outoftime|4.677096370463079|72.97872340425532|\n",
      "|          mate|4.492132574489454|65.56896551724138|\n",
      "|          draw|5.120567375886525|84.73404255319149|\n",
      "+--------------+-----------------+-----------------+\n",
      "\n"
     ]
    }
   ],
   "source": [
    "df.groupby(\"victory_status\").avg().select(\"victory_status\", \"avg(opening_ply)\", \"avg(turns)\").show()"
   ]
  },
  {
   "cell_type": "markdown",
   "metadata": {},
   "source": [
    "### Feature Engineering"
   ]
  },
  {
   "cell_type": "code",
   "execution_count": 24,
   "metadata": {
    "ExecuteTime": {
     "end_time": "2019-10-29T07:58:27.120879Z",
     "start_time": "2019-10-29T07:58:27.104083Z"
    }
   },
   "outputs": [],
   "source": [
    "df = df.drop(\"id\", \"moves_new\", \"opening_eco\")"
   ]
  },
  {
   "cell_type": "code",
   "execution_count": null,
   "metadata": {},
   "outputs": [],
   "source": []
  },
  {
   "cell_type": "code",
   "execution_count": 35,
   "metadata": {
    "ExecuteTime": {
     "end_time": "2019-10-29T08:08:58.008726Z",
     "start_time": "2019-10-29T08:08:57.947211Z"
    },
    "scrolled": true
   },
   "outputs": [],
   "source": [
    "df = df.fillna({'moves_new1':0, 'moves_new2':0, 'moves_new3':0}) #moves_new had some NaNs"
   ]
  },
  {
   "cell_type": "code",
   "execution_count": 30,
   "metadata": {
    "ExecuteTime": {
     "end_time": "2019-10-29T08:01:51.510903Z",
     "start_time": "2019-10-29T08:01:35.668465Z"
    }
   },
   "outputs": [
    {
     "data": {
      "text/plain": [
       "19113"
      ]
     },
     "execution_count": 30,
     "metadata": {},
     "output_type": "execute_result"
    }
   ],
   "source": [
    "df.count()"
   ]
  },
  {
   "cell_type": "code",
   "execution_count": 36,
   "metadata": {
    "ExecuteTime": {
     "end_time": "2019-10-29T08:09:19.168140Z",
     "start_time": "2019-10-29T08:09:02.730045Z"
    }
   },
   "outputs": [
    {
     "data": {
      "text/plain": [
       "19113"
      ]
     },
     "execution_count": 36,
     "metadata": {},
     "output_type": "execute_result"
    }
   ],
   "source": [
    "df.na.drop().count()"
   ]
  },
  {
   "cell_type": "code",
   "execution_count": 37,
   "metadata": {
    "ExecuteTime": {
     "end_time": "2019-10-29T08:09:37.197843Z",
     "start_time": "2019-10-29T08:09:20.632528Z"
    }
   },
   "outputs": [
    {
     "name": "stdout",
     "output_type": "stream",
     "text": [
      "+-----+-----+--------------+------+------------+------------+------------+-----------+----------+----------+----------+----------+----------+----------+\n",
      "|rated|turns|victory_status|winner|white_rating|black_rating|opening_name|opening_ply|increment1|increment2|moves_new0|moves_new1|moves_new2|moves_new3|\n",
      "+-----+-----+--------------+------+------------+------------+------------+-----------+----------+----------+----------+----------+----------+----------+\n",
      "|    0|    0|             0|     0|           0|           0|           0|          0|         0|         0|         0|         0|         0|         0|\n",
      "+-----+-----+--------------+------+------------+------------+------------+-----------+----------+----------+----------+----------+----------+----------+\n",
      "\n"
     ]
    }
   ],
   "source": [
    "#from pyspark.sql.functions import isnan, when, count, col\n",
    "df.select([count(when(isnan(c) | col(c).isNull(), c)).alias(c) for c in df.columns]).show()"
   ]
  },
  {
   "cell_type": "code",
   "execution_count": null,
   "metadata": {},
   "outputs": [],
   "source": []
  },
  {
   "cell_type": "code",
   "execution_count": null,
   "metadata": {},
   "outputs": [],
   "source": []
  },
  {
   "cell_type": "code",
   "execution_count": 38,
   "metadata": {
    "ExecuteTime": {
     "end_time": "2019-10-29T08:09:48.508421Z",
     "start_time": "2019-10-29T08:09:48.490519Z"
    }
   },
   "outputs": [],
   "source": [
    "# Helper function to select features to scale given their skew\n",
    "def select_features_to_scale(datf, lower_skew=-2, upper_skew=2, dtypes='int', drop_cols=[]):\n",
    "    \n",
    "    # Empty Selected Feature List for Output\n",
    "    selected_features = []\n",
    "    \n",
    "    # Select Features to Scale based on Inputs ('int' type, drop 'ID' columns or others, skew bounds)\n",
    "    feature_list = list(datf.toPandas().select_dtypes(include=[dtypes]).columns.drop(drop_cols))\n",
    "    \n",
    "    # Loop through 'feature_list' to select features based on Kurtosis / Skew\n",
    "    for feature in feature_list:\n",
    "\n",
    "        if datf.toPandas()[feature].kurtosis() < -2 or datf.toPandas()[feature].kurtosis() > 2:\n",
    "            \n",
    "            selected_features.append(feature)\n",
    "    \n",
    "    # Return feature list to scale\n",
    "    return selected_features"
   ]
  },
  {
   "cell_type": "markdown",
   "metadata": {
    "ExecuteTime": {
     "end_time": "2019-10-28T11:01:29.820223Z",
     "start_time": "2019-10-28T11:01:27.140105Z"
    }
   },
   "source": [
    "df_mod = df.drop(\"moves150\")\n",
    "for i in range(151,349):\n",
    "    df_mod = df_mod.drop(\"moves{0}\".format(i))"
   ]
  },
  {
   "cell_type": "markdown",
   "metadata": {
    "ExecuteTime": {
     "end_time": "2019-10-28T11:02:46.473159Z",
     "start_time": "2019-10-28T11:02:04.725149Z"
    }
   },
   "source": [
    "df_mod.limit(5).toPandas()"
   ]
  },
  {
   "cell_type": "code",
   "execution_count": 39,
   "metadata": {
    "ExecuteTime": {
     "end_time": "2019-10-29T08:09:54.424870Z",
     "start_time": "2019-10-29T08:09:54.419297Z"
    }
   },
   "outputs": [
    {
     "data": {
      "text/plain": [
       "['rated',\n",
       " 'turns',\n",
       " 'victory_status',\n",
       " 'winner',\n",
       " 'white_rating',\n",
       " 'black_rating',\n",
       " 'opening_name',\n",
       " 'opening_ply',\n",
       " 'increment1',\n",
       " 'increment2',\n",
       " 'moves_new0',\n",
       " 'moves_new1',\n",
       " 'moves_new2',\n",
       " 'moves_new3']"
      ]
     },
     "execution_count": 39,
     "metadata": {},
     "output_type": "execute_result"
    }
   ],
   "source": [
    "df.columns"
   ]
  },
  {
   "cell_type": "code",
   "execution_count": 40,
   "metadata": {
    "ExecuteTime": {
     "end_time": "2019-10-29T08:09:57.590270Z",
     "start_time": "2019-10-29T08:09:57.418059Z"
    }
   },
   "outputs": [],
   "source": [
    "from pyspark.ml.feature import OneHotEncoderEstimator, StringIndexer, StandardScaler, VectorAssembler\n",
    "from pyspark.ml import Pipeline\n",
    "\n",
    "# Spark Pipeline\n",
    "cat_features = ['rated', 'opening_name'] + [\"moves_new{0}\".format(i) for i in range(4)]\n",
    "\n",
    "num_features = ['turns','white_rating','black_rating','opening_ply','increment1', 'increment2']\n",
    "\n",
    "label = 'winner'\n",
    "\n",
    "# Pipeline Stages List\n",
    "stages = []\n",
    "\n",
    "# Loop for StringIndexer and OHE for Categorical Variables\n",
    "for features in cat_features:\n",
    "    \n",
    "    # Index Categorical Features\n",
    "    string_indexer = StringIndexer(inputCol=features, outputCol=features + \"_index\")\n",
    "    \n",
    "    # One Hot Encode Categorical Features\n",
    "    encoder = OneHotEncoderEstimator(inputCols=[string_indexer.getOutputCol()],\n",
    "                                     outputCols=[features + \"_class_vec\"])\n",
    "    # Append Pipeline Stages\n",
    "    stages += [string_indexer, encoder]\n",
    "    \n",
    "# Index Label Feature\n",
    "label_str_index =  StringIndexer(inputCol=label, outputCol=\"label_index\")\n",
    "\n",
    "# Scale Feature: Select the Features to Scale using helper 'select_features_to_scale' function above and Standardize \n",
    "#unscaled_features = select_features_to_scale(df)\n",
    "\n",
    "#unscaled_assembler = VectorAssembler(inputCols=unscaled_features, outputCol=\"unscaled_features\")\n",
    "#scaler = StandardScaler(inputCol=\"unscaled_features\", outputCol=\"scaled_features\")\n",
    "\n",
    "#stages += [unscaled_assembler, scaler]\n",
    "\n",
    "# Create list of Numeric Features that Are Not Being Scaled\n",
    "num_unscaled_diff_list = list(set(num_features)) # - set(unscaled_features))\n",
    "\n",
    "# Assemble or Concat the Categorical Features and Numeric Features\n",
    "assembler_inputs = [feature + \"_class_vec\" for feature in cat_features] + num_unscaled_diff_list\n",
    "\n",
    "assembler = VectorAssembler(inputCols=assembler_inputs, outputCol=\"features\") \n",
    "\n",
    "stages += [label_str_index, assembler]\n",
    "\n",
    "# Assemble Final Training Data of Scaled, Numeric, and Categorical Engineered Features\n",
    "#assembler_final = VectorAssembler(inputCols=[\"scaled_features\",\"assembled_inputs\"], outputCol=\"features\")\n",
    "\n",
    "#assembler_final = VectorAssembler(inputCols=[\"assembled_inputs\"], outputCol=\"features\")\n",
    "\n",
    "#stages += [assembler_final]"
   ]
  },
  {
   "cell_type": "code",
   "execution_count": 41,
   "metadata": {
    "ExecuteTime": {
     "end_time": "2019-10-29T08:10:00.166762Z",
     "start_time": "2019-10-29T08:10:00.161260Z"
    }
   },
   "outputs": [
    {
     "data": {
      "text/plain": [
       "[StringIndexer_95121cc6e4c2,\n",
       " OneHotEncoderEstimator_1e6015990e9f,\n",
       " StringIndexer_ac0dc6938a3e,\n",
       " OneHotEncoderEstimator_a15ddb88cb21,\n",
       " StringIndexer_a46126404246,\n",
       " OneHotEncoderEstimator_700aaa0d65a6,\n",
       " StringIndexer_1f3bc0381a48,\n",
       " OneHotEncoderEstimator_3c6b5a8fbc97,\n",
       " StringIndexer_c908676c3f97,\n",
       " OneHotEncoderEstimator_736d307240ac,\n",
       " StringIndexer_5408ddd90b97,\n",
       " OneHotEncoderEstimator_c5c1f4feb668,\n",
       " StringIndexer_237f24e67c3c,\n",
       " VectorAssembler_50cf050f64ad]"
      ]
     },
     "execution_count": 41,
     "metadata": {},
     "output_type": "execute_result"
    }
   ],
   "source": [
    "stages"
   ]
  },
  {
   "cell_type": "code",
   "execution_count": 42,
   "metadata": {
    "ExecuteTime": {
     "end_time": "2019-10-29T08:12:24.620806Z",
     "start_time": "2019-10-29T08:10:07.947145Z"
    }
   },
   "outputs": [
    {
     "name": "stdout",
     "output_type": "stream",
     "text": [
      "pipeline initialized\n",
      "model fitted\n"
     ]
    }
   ],
   "source": [
    "#2min50sec\n",
    "# Set Pipeline\n",
    "pipeline = Pipeline(stages=stages)\n",
    "print(\"pipeline initialized\")\n",
    "\n",
    "# Fit Pipeline to Data\n",
    "pipeline_model = pipeline.fit(df)\n",
    "print(\"model fitted\")\n",
    "\n",
    "# Transform Data using Fitted Pipeline\n",
    "df_transform = pipeline_model.transform(df)"
   ]
  },
  {
   "cell_type": "code",
   "execution_count": 180,
   "metadata": {
    "ExecuteTime": {
     "end_time": "2019-10-28T18:52:34.549200Z",
     "start_time": "2019-10-28T18:52:18.522824Z"
    },
    "scrolled": true
   },
   "outputs": [
    {
     "data": {
      "text/html": [
       "<div>\n",
       "<style scoped>\n",
       "    .dataframe tbody tr th:only-of-type {\n",
       "        vertical-align: middle;\n",
       "    }\n",
       "\n",
       "    .dataframe tbody tr th {\n",
       "        vertical-align: top;\n",
       "    }\n",
       "\n",
       "    .dataframe thead th {\n",
       "        text-align: right;\n",
       "    }\n",
       "</style>\n",
       "<table border=\"1\" class=\"dataframe\">\n",
       "  <thead>\n",
       "    <tr style=\"text-align: right;\">\n",
       "      <th></th>\n",
       "      <th>rated</th>\n",
       "      <th>turns</th>\n",
       "      <th>victory_status</th>\n",
       "      <th>winner</th>\n",
       "      <th>white_rating</th>\n",
       "      <th>black_rating</th>\n",
       "      <th>opening_name</th>\n",
       "      <th>opening_ply</th>\n",
       "      <th>increment1</th>\n",
       "      <th>increment2</th>\n",
       "      <th>...</th>\n",
       "      <th>moves_new0_index</th>\n",
       "      <th>moves_new0_class_vec</th>\n",
       "      <th>moves_new1_index</th>\n",
       "      <th>moves_new1_class_vec</th>\n",
       "      <th>moves_new2_index</th>\n",
       "      <th>moves_new2_class_vec</th>\n",
       "      <th>moves_new3_index</th>\n",
       "      <th>moves_new3_class_vec</th>\n",
       "      <th>label_index</th>\n",
       "      <th>features</th>\n",
       "    </tr>\n",
       "  </thead>\n",
       "  <tbody>\n",
       "    <tr>\n",
       "      <th>0</th>\n",
       "      <td>True</td>\n",
       "      <td>139</td>\n",
       "      <td>draw</td>\n",
       "      <td>draw</td>\n",
       "      <td>1736</td>\n",
       "      <td>1893</td>\n",
       "      <td>Old Benoni Defense</td>\n",
       "      <td>2</td>\n",
       "      <td>10</td>\n",
       "      <td>0</td>\n",
       "      <td>...</td>\n",
       "      <td>1.0</td>\n",
       "      <td>(0.0, 1.0, 0.0, 0.0, 0.0, 0.0, 0.0, 0.0, 0.0, ...</td>\n",
       "      <td>2.0</td>\n",
       "      <td>(0.0, 0.0, 1.0, 0.0, 0.0, 0.0, 0.0, 0.0, 0.0, ...</td>\n",
       "      <td>336.0</td>\n",
       "      <td>(0.0, 0.0, 0.0, 0.0, 0.0, 0.0, 0.0, 0.0, 0.0, ...</td>\n",
       "      <td>109.0</td>\n",
       "      <td>(0.0, 0.0, 0.0, 0.0, 0.0, 0.0, 0.0, 0.0, 0.0, ...</td>\n",
       "      <td>2.0</td>\n",
       "      <td>(1.0, 0.0, 0.0, 0.0, 0.0, 0.0, 0.0, 0.0, 0.0, ...</td>\n",
       "    </tr>\n",
       "    <tr>\n",
       "      <th>1</th>\n",
       "      <td>True</td>\n",
       "      <td>96</td>\n",
       "      <td>resign</td>\n",
       "      <td>black</td>\n",
       "      <td>2209</td>\n",
       "      <td>2044</td>\n",
       "      <td>Sicilian Defense: Alapin Variation</td>\n",
       "      <td>3</td>\n",
       "      <td>8</td>\n",
       "      <td>0</td>\n",
       "      <td>...</td>\n",
       "      <td>0.0</td>\n",
       "      <td>(1.0, 0.0, 0.0, 0.0, 0.0, 0.0, 0.0, 0.0, 0.0, ...</td>\n",
       "      <td>2.0</td>\n",
       "      <td>(0.0, 0.0, 1.0, 0.0, 0.0, 0.0, 0.0, 0.0, 0.0, ...</td>\n",
       "      <td>96.0</td>\n",
       "      <td>(0.0, 0.0, 0.0, 0.0, 0.0, 0.0, 0.0, 0.0, 0.0, ...</td>\n",
       "      <td>113.0</td>\n",
       "      <td>(0.0, 0.0, 0.0, 0.0, 0.0, 0.0, 0.0, 0.0, 0.0, ...</td>\n",
       "      <td>1.0</td>\n",
       "      <td>(1.0, 0.0, 0.0, 0.0, 0.0, 0.0, 0.0, 0.0, 0.0, ...</td>\n",
       "    </tr>\n",
       "    <tr>\n",
       "      <th>2</th>\n",
       "      <td>True</td>\n",
       "      <td>58</td>\n",
       "      <td>resign</td>\n",
       "      <td>black</td>\n",
       "      <td>1652</td>\n",
       "      <td>1624</td>\n",
       "      <td>Scotch Game: Malaniuk Variation</td>\n",
       "      <td>8</td>\n",
       "      <td>6</td>\n",
       "      <td>8</td>\n",
       "      <td>...</td>\n",
       "      <td>0.0</td>\n",
       "      <td>(1.0, 0.0, 0.0, 0.0, 0.0, 0.0, 0.0, 0.0, 0.0, ...</td>\n",
       "      <td>0.0</td>\n",
       "      <td>(1.0, 0.0, 0.0, 0.0, 0.0, 0.0, 0.0, 0.0, 0.0, ...</td>\n",
       "      <td>82.0</td>\n",
       "      <td>(0.0, 0.0, 0.0, 0.0, 0.0, 0.0, 0.0, 0.0, 0.0, ...</td>\n",
       "      <td>320.0</td>\n",
       "      <td>(0.0, 0.0, 0.0, 0.0, 0.0, 0.0, 0.0, 0.0, 0.0, ...</td>\n",
       "      <td>1.0</td>\n",
       "      <td>(1.0, 0.0, 0.0, 0.0, 0.0, 0.0, 0.0, 0.0, 0.0, ...</td>\n",
       "    </tr>\n",
       "    <tr>\n",
       "      <th>3</th>\n",
       "      <td>False</td>\n",
       "      <td>39</td>\n",
       "      <td>resign</td>\n",
       "      <td>white</td>\n",
       "      <td>1812</td>\n",
       "      <td>1820</td>\n",
       "      <td>Queen's Pawn Game: London System</td>\n",
       "      <td>5</td>\n",
       "      <td>10</td>\n",
       "      <td>0</td>\n",
       "      <td>...</td>\n",
       "      <td>1.0</td>\n",
       "      <td>(0.0, 1.0, 0.0, 0.0, 0.0, 0.0, 0.0, 0.0, 0.0, ...</td>\n",
       "      <td>1.0</td>\n",
       "      <td>(0.0, 1.0, 0.0, 0.0, 0.0, 0.0, 0.0, 0.0, 0.0, ...</td>\n",
       "      <td>51.0</td>\n",
       "      <td>(0.0, 0.0, 0.0, 0.0, 0.0, 0.0, 0.0, 0.0, 0.0, ...</td>\n",
       "      <td>577.0</td>\n",
       "      <td>(0.0, 0.0, 0.0, 0.0, 0.0, 0.0, 0.0, 0.0, 0.0, ...</td>\n",
       "      <td>0.0</td>\n",
       "      <td>(0.0, 0.0, 0.0, 0.0, 0.0, 0.0, 0.0, 0.0, 0.0, ...</td>\n",
       "    </tr>\n",
       "    <tr>\n",
       "      <th>4</th>\n",
       "      <td>True</td>\n",
       "      <td>93</td>\n",
       "      <td>resign</td>\n",
       "      <td>white</td>\n",
       "      <td>2217</td>\n",
       "      <td>1970</td>\n",
       "      <td>King's Pawn Game: Nimzowitsch Defense</td>\n",
       "      <td>3</td>\n",
       "      <td>10</td>\n",
       "      <td>0</td>\n",
       "      <td>...</td>\n",
       "      <td>0.0</td>\n",
       "      <td>(1.0, 0.0, 0.0, 0.0, 0.0, 0.0, 0.0, 0.0, 0.0, ...</td>\n",
       "      <td>7.0</td>\n",
       "      <td>(0.0, 0.0, 0.0, 0.0, 0.0, 0.0, 0.0, 1.0, 0.0, ...</td>\n",
       "      <td>402.0</td>\n",
       "      <td>(0.0, 0.0, 0.0, 0.0, 0.0, 0.0, 0.0, 0.0, 0.0, ...</td>\n",
       "      <td>223.0</td>\n",
       "      <td>(0.0, 0.0, 0.0, 0.0, 0.0, 0.0, 0.0, 0.0, 0.0, ...</td>\n",
       "      <td>0.0</td>\n",
       "      <td>(1.0, 0.0, 0.0, 0.0, 0.0, 0.0, 0.0, 0.0, 0.0, ...</td>\n",
       "    </tr>\n",
       "  </tbody>\n",
       "</table>\n",
       "<p>5 rows × 28 columns</p>\n",
       "</div>"
      ],
      "text/plain": [
       "   rated  turns victory_status winner  white_rating  black_rating  \\\n",
       "0   True    139           draw   draw          1736          1893   \n",
       "1   True     96         resign  black          2209          2044   \n",
       "2   True     58         resign  black          1652          1624   \n",
       "3  False     39         resign  white          1812          1820   \n",
       "4   True     93         resign  white          2217          1970   \n",
       "\n",
       "                            opening_name  opening_ply  increment1  increment2  \\\n",
       "0                     Old Benoni Defense            2          10           0   \n",
       "1     Sicilian Defense: Alapin Variation            3           8           0   \n",
       "2        Scotch Game: Malaniuk Variation            8           6           8   \n",
       "3       Queen's Pawn Game: London System            5          10           0   \n",
       "4  King's Pawn Game: Nimzowitsch Defense            3          10           0   \n",
       "\n",
       "   ... moves_new0_index                               moves_new0_class_vec  \\\n",
       "0  ...              1.0  (0.0, 1.0, 0.0, 0.0, 0.0, 0.0, 0.0, 0.0, 0.0, ...   \n",
       "1  ...              0.0  (1.0, 0.0, 0.0, 0.0, 0.0, 0.0, 0.0, 0.0, 0.0, ...   \n",
       "2  ...              0.0  (1.0, 0.0, 0.0, 0.0, 0.0, 0.0, 0.0, 0.0, 0.0, ...   \n",
       "3  ...              1.0  (0.0, 1.0, 0.0, 0.0, 0.0, 0.0, 0.0, 0.0, 0.0, ...   \n",
       "4  ...              0.0  (1.0, 0.0, 0.0, 0.0, 0.0, 0.0, 0.0, 0.0, 0.0, ...   \n",
       "\n",
       "  moves_new1_index                               moves_new1_class_vec  \\\n",
       "0              2.0  (0.0, 0.0, 1.0, 0.0, 0.0, 0.0, 0.0, 0.0, 0.0, ...   \n",
       "1              2.0  (0.0, 0.0, 1.0, 0.0, 0.0, 0.0, 0.0, 0.0, 0.0, ...   \n",
       "2              0.0  (1.0, 0.0, 0.0, 0.0, 0.0, 0.0, 0.0, 0.0, 0.0, ...   \n",
       "3              1.0  (0.0, 1.0, 0.0, 0.0, 0.0, 0.0, 0.0, 0.0, 0.0, ...   \n",
       "4              7.0  (0.0, 0.0, 0.0, 0.0, 0.0, 0.0, 0.0, 1.0, 0.0, ...   \n",
       "\n",
       "   moves_new2_index                               moves_new2_class_vec  \\\n",
       "0             336.0  (0.0, 0.0, 0.0, 0.0, 0.0, 0.0, 0.0, 0.0, 0.0, ...   \n",
       "1              96.0  (0.0, 0.0, 0.0, 0.0, 0.0, 0.0, 0.0, 0.0, 0.0, ...   \n",
       "2              82.0  (0.0, 0.0, 0.0, 0.0, 0.0, 0.0, 0.0, 0.0, 0.0, ...   \n",
       "3              51.0  (0.0, 0.0, 0.0, 0.0, 0.0, 0.0, 0.0, 0.0, 0.0, ...   \n",
       "4             402.0  (0.0, 0.0, 0.0, 0.0, 0.0, 0.0, 0.0, 0.0, 0.0, ...   \n",
       "\n",
       "   moves_new3_index                               moves_new3_class_vec  \\\n",
       "0             109.0  (0.0, 0.0, 0.0, 0.0, 0.0, 0.0, 0.0, 0.0, 0.0, ...   \n",
       "1             113.0  (0.0, 0.0, 0.0, 0.0, 0.0, 0.0, 0.0, 0.0, 0.0, ...   \n",
       "2             320.0  (0.0, 0.0, 0.0, 0.0, 0.0, 0.0, 0.0, 0.0, 0.0, ...   \n",
       "3             577.0  (0.0, 0.0, 0.0, 0.0, 0.0, 0.0, 0.0, 0.0, 0.0, ...   \n",
       "4             223.0  (0.0, 0.0, 0.0, 0.0, 0.0, 0.0, 0.0, 0.0, 0.0, ...   \n",
       "\n",
       "   label_index                                           features  \n",
       "0          2.0  (1.0, 0.0, 0.0, 0.0, 0.0, 0.0, 0.0, 0.0, 0.0, ...  \n",
       "1          1.0  (1.0, 0.0, 0.0, 0.0, 0.0, 0.0, 0.0, 0.0, 0.0, ...  \n",
       "2          1.0  (1.0, 0.0, 0.0, 0.0, 0.0, 0.0, 0.0, 0.0, 0.0, ...  \n",
       "3          0.0  (0.0, 0.0, 0.0, 0.0, 0.0, 0.0, 0.0, 0.0, 0.0, ...  \n",
       "4          0.0  (1.0, 0.0, 0.0, 0.0, 0.0, 0.0, 0.0, 0.0, 0.0, ...  \n",
       "\n",
       "[5 rows x 28 columns]"
      ]
     },
     "execution_count": 180,
     "metadata": {},
     "output_type": "execute_result"
    }
   ],
   "source": [
    "# Preview Newly Transformed Data\n",
    "df_transform.limit(5).toPandas()"
   ]
  },
  {
   "cell_type": "code",
   "execution_count": 43,
   "metadata": {
    "ExecuteTime": {
     "end_time": "2019-10-29T08:12:40.963291Z",
     "start_time": "2019-10-29T08:12:24.627491Z"
    }
   },
   "outputs": [
    {
     "data": {
      "text/html": [
       "<div>\n",
       "<style scoped>\n",
       "    .dataframe tbody tr th:only-of-type {\n",
       "        vertical-align: middle;\n",
       "    }\n",
       "\n",
       "    .dataframe tbody tr th {\n",
       "        vertical-align: top;\n",
       "    }\n",
       "\n",
       "    .dataframe thead th {\n",
       "        text-align: right;\n",
       "    }\n",
       "</style>\n",
       "<table border=\"1\" class=\"dataframe\">\n",
       "  <thead>\n",
       "    <tr style=\"text-align: right;\">\n",
       "      <th></th>\n",
       "      <th>features</th>\n",
       "      <th>label_index</th>\n",
       "    </tr>\n",
       "  </thead>\n",
       "  <tbody>\n",
       "    <tr>\n",
       "      <th>0</th>\n",
       "      <td>(1.0, 0.0, 0.0, 0.0, 0.0, 0.0, 0.0, 0.0, 0.0, ...</td>\n",
       "      <td>2.0</td>\n",
       "    </tr>\n",
       "    <tr>\n",
       "      <th>1</th>\n",
       "      <td>(1.0, 0.0, 0.0, 0.0, 0.0, 0.0, 0.0, 0.0, 0.0, ...</td>\n",
       "      <td>1.0</td>\n",
       "    </tr>\n",
       "    <tr>\n",
       "      <th>2</th>\n",
       "      <td>(1.0, 0.0, 0.0, 0.0, 0.0, 0.0, 0.0, 0.0, 0.0, ...</td>\n",
       "      <td>1.0</td>\n",
       "    </tr>\n",
       "    <tr>\n",
       "      <th>3</th>\n",
       "      <td>(0.0, 0.0, 0.0, 0.0, 0.0, 0.0, 0.0, 0.0, 0.0, ...</td>\n",
       "      <td>0.0</td>\n",
       "    </tr>\n",
       "    <tr>\n",
       "      <th>4</th>\n",
       "      <td>(1.0, 0.0, 0.0, 0.0, 0.0, 0.0, 0.0, 0.0, 0.0, ...</td>\n",
       "      <td>0.0</td>\n",
       "    </tr>\n",
       "  </tbody>\n",
       "</table>\n",
       "</div>"
      ],
      "text/plain": [
       "                                            features  label_index\n",
       "0  (1.0, 0.0, 0.0, 0.0, 0.0, 0.0, 0.0, 0.0, 0.0, ...          2.0\n",
       "1  (1.0, 0.0, 0.0, 0.0, 0.0, 0.0, 0.0, 0.0, 0.0, ...          1.0\n",
       "2  (1.0, 0.0, 0.0, 0.0, 0.0, 0.0, 0.0, 0.0, 0.0, ...          1.0\n",
       "3  (0.0, 0.0, 0.0, 0.0, 0.0, 0.0, 0.0, 0.0, 0.0, ...          0.0\n",
       "4  (1.0, 0.0, 0.0, 0.0, 0.0, 0.0, 0.0, 0.0, 0.0, ...          0.0"
      ]
     },
     "execution_count": 43,
     "metadata": {},
     "output_type": "execute_result"
    }
   ],
   "source": [
    "# Select only 'features' and 'label_index' for Final Dataframe\n",
    "df_transform_fin = df_transform.select('features','label_index')\n",
    "df_transform_fin.limit(5).toPandas()"
   ]
  },
  {
   "cell_type": "code",
   "execution_count": 135,
   "metadata": {
    "ExecuteTime": {
     "end_time": "2019-10-28T17:40:32.116520Z",
     "start_time": "2019-10-28T17:40:32.079989Z"
    }
   },
   "outputs": [],
   "source": [
    "#df_transform_fin = df_transform_fin.withColumn(\"label_index\",df_transform_fin[\"label_index\"].cast(\"int\"))"
   ]
  },
  {
   "cell_type": "code",
   "execution_count": 44,
   "metadata": {
    "ExecuteTime": {
     "end_time": "2019-10-29T08:13:36.356955Z",
     "start_time": "2019-10-29T08:13:19.356529Z"
    }
   },
   "outputs": [
    {
     "name": "stdout",
     "output_type": "stream",
     "text": [
      "+--------------------+-----------+\n",
      "|            features|label_index|\n",
      "+--------------------+-----------+\n",
      "|(4952,[0,124,1478...|        2.0|\n",
      "|(4952,[0,52,1477,...|        1.0|\n",
      "|(4952,[0,518,1477...|        1.0|\n",
      "+--------------------+-----------+\n",
      "only showing top 3 rows\n",
      "\n"
     ]
    }
   ],
   "source": [
    "df_transform_fin.show(3)"
   ]
  },
  {
   "cell_type": "code",
   "execution_count": 45,
   "metadata": {
    "ExecuteTime": {
     "end_time": "2019-10-29T08:14:00.276995Z",
     "start_time": "2019-10-29T08:13:48.350015Z"
    }
   },
   "outputs": [
    {
     "data": {
      "text/plain": [
       "19113"
      ]
     },
     "execution_count": 45,
     "metadata": {},
     "output_type": "execute_result"
    }
   ],
   "source": [
    "df_transform_fin.count()"
   ]
  },
  {
   "cell_type": "code",
   "execution_count": 46,
   "metadata": {
    "ExecuteTime": {
     "end_time": "2019-10-29T08:14:19.046155Z",
     "start_time": "2019-10-29T08:14:01.681593Z"
    }
   },
   "outputs": [
    {
     "data": {
      "text/plain": [
       "19113"
      ]
     },
     "execution_count": 46,
     "metadata": {},
     "output_type": "execute_result"
    }
   ],
   "source": [
    "df_transform_fin.na.drop().count()"
   ]
  },
  {
   "cell_type": "code",
   "execution_count": 47,
   "metadata": {
    "ExecuteTime": {
     "end_time": "2019-10-29T08:14:25.132496Z",
     "start_time": "2019-10-29T08:14:25.110522Z"
    }
   },
   "outputs": [],
   "source": [
    "# Split Data into Train / Test Sets\n",
    "train_data, test_data = df_transform_fin.randomSplit([.8, .2],seed=42)"
   ]
  },
  {
   "cell_type": "code",
   "execution_count": 48,
   "metadata": {
    "ExecuteTime": {
     "end_time": "2019-10-29T08:14:42.394055Z",
     "start_time": "2019-10-29T08:14:27.422011Z"
    }
   },
   "outputs": [
    {
     "name": "stdout",
     "output_type": "stream",
     "text": [
      "+--------------------+-----------+\n",
      "|            features|label_index|\n",
      "+--------------------+-----------+\n",
      "|(4952,[0,3,1477,1...|        0.0|\n",
      "|(4952,[0,9,1477,1...|        1.0|\n",
      "|(4952,[0,9,1477,1...|        1.0|\n",
      "|(4952,[0,9,1477,1...|        1.0|\n",
      "|(4952,[0,10,1478,...|        0.0|\n",
      "+--------------------+-----------+\n",
      "only showing top 5 rows\n",
      "\n"
     ]
    }
   ],
   "source": [
    "train_data.show(5)"
   ]
  },
  {
   "cell_type": "code",
   "execution_count": 54,
   "metadata": {
    "ExecuteTime": {
     "end_time": "2019-10-29T08:25:00.052666Z",
     "start_time": "2019-10-29T08:22:53.943209Z"
    }
   },
   "outputs": [
    {
     "name": "stdout",
     "output_type": "stream",
     "text": [
      "+-----------+--------------------+----------+--------------------+\n",
      "|label_index|       rawPrediction|prediction|         probability|\n",
      "+-----------+--------------------+----------+--------------------+\n",
      "|        0.0|[1375.0,1715.0,16...|       1.0|[0.42268675069166...|\n",
      "|        1.0|   [54.0,135.0,12.0]|       1.0|[0.26865671641791...|\n",
      "|        0.0|[2392.0,1734.0,18...|       0.0|[0.55473098330241...|\n",
      "|        0.0|   [359.0,78.0,10.0]|       0.0|[0.80313199105145...|\n",
      "|        0.0|[2392.0,1734.0,18...|       0.0|[0.55473098330241...|\n",
      "|        0.0|[1375.0,1715.0,16...|       1.0|[0.42268675069166...|\n",
      "|        2.0|[1375.0,1715.0,16...|       1.0|[0.42268675069166...|\n",
      "|        0.0|  [966.0,361.0,79.0]|       0.0|[0.68705547652916...|\n",
      "|        1.0|    [60.0,433.0,9.0]|       1.0|[0.11952191235059...|\n",
      "|        0.0|[2392.0,1734.0,18...|       0.0|[0.55473098330241...|\n",
      "+-----------+--------------------+----------+--------------------+\n",
      "only showing top 10 rows\n",
      "\n"
     ]
    }
   ],
   "source": [
    "dt = DecisionTreeClassifier(featuresCol = 'features', labelCol = 'label_index',\n",
    "                            maxDepth = 5, seed=42)\n",
    "dtModel = dt.fit(train_data)\n",
    "\n",
    "predictions = dtModel.transform(test_data)\n",
    "predictions.select('label_index', 'rawPrediction', 'prediction', 'probability').show(10)"
   ]
  },
  {
   "cell_type": "code",
   "execution_count": 55,
   "metadata": {
    "ExecuteTime": {
     "end_time": "2019-10-29T08:25:23.099396Z",
     "start_time": "2019-10-29T08:25:00.061496Z"
    }
   },
   "outputs": [
    {
     "name": "stdout",
     "output_type": "stream",
     "text": [
      "Test Set Accuracy = 0.59337\n"
     ]
    }
   ],
   "source": [
    "evaluator = MulticlassClassificationEvaluator(\n",
    "    labelCol=\"label_index\", predictionCol=\"prediction\", metricName=\"accuracy\")\n",
    "accuracy = evaluator.evaluate(predictions)\n",
    "print(\"Test Set Accuracy = %g\" % (accuracy))"
   ]
  },
  {
   "cell_type": "code",
   "execution_count": 58,
   "metadata": {
    "ExecuteTime": {
     "end_time": "2019-10-29T08:31:45.947459Z",
     "start_time": "2019-10-29T08:26:59.523477Z"
    }
   },
   "outputs": [
    {
     "name": "stdout",
     "output_type": "stream",
     "text": [
      "+-----------+--------------------+----------+--------------------+\n",
      "|label_index|       rawPrediction|prediction|         probability|\n",
      "+-----------+--------------------+----------+--------------------+\n",
      "|        0.0|[9.92118618275944...|       0.0|[0.49605930913797...|\n",
      "|        1.0|[10.1693235631783...|       0.0|[0.50846617815891...|\n",
      "|        0.0|[9.92118618275944...|       0.0|[0.49605930913797...|\n",
      "|        0.0|[10.1693235631783...|       0.0|[0.50846617815891...|\n",
      "|        0.0|[10.0308165621266...|       0.0|[0.50154082810633...|\n",
      "|        0.0|[9.92118618275944...|       0.0|[0.49605930913797...|\n",
      "|        2.0|[9.85599977960717...|       0.0|[0.49279998898035...|\n",
      "|        0.0|[9.92118618275944...|       0.0|[0.49605930913797...|\n",
      "|        1.0|[9.92118618275944...|       0.0|[0.49605930913797...|\n",
      "|        0.0|[10.2961729806778...|       0.0|[0.51480864903389...|\n",
      "+-----------+--------------------+----------+--------------------+\n",
      "only showing top 10 rows\n",
      "\n"
     ]
    }
   ],
   "source": [
    "dt2 = RandomForestClassifier(featuresCol = 'features', labelCol = 'label_index', numTrees=20,\n",
    "                             maxDepth = 5, seed=42)\n",
    "dt2Model = dt2.fit(train_data)\n",
    "\n",
    "predictions2 = dt2Model.transform(test_data)\n",
    "predictions2.select('label_index', 'rawPrediction', 'prediction', 'probability').show(10)"
   ]
  },
  {
   "cell_type": "code",
   "execution_count": 60,
   "metadata": {
    "ExecuteTime": {
     "end_time": "2019-10-29T08:32:07.673827Z",
     "start_time": "2019-10-29T08:31:45.982148Z"
    }
   },
   "outputs": [
    {
     "name": "stdout",
     "output_type": "stream",
     "text": [
      "Test Set Accuracy = 0.548822\n"
     ]
    }
   ],
   "source": [
    "evaluator2 = MulticlassClassificationEvaluator(\n",
    "    labelCol=\"label_index\", predictionCol=\"prediction\", metricName=\"accuracy\")\n",
    "accuracy2 = evaluator2.evaluate(predictions2)\n",
    "print(\"Test Set Accuracy = %g\" % (accuracy2))"
   ]
  },
  {
   "cell_type": "code",
   "execution_count": 89,
   "metadata": {
    "ExecuteTime": {
     "end_time": "2019-10-29T10:29:30.013107Z",
     "start_time": "2019-10-29T10:29:29.839549Z"
    }
   },
   "outputs": [
    {
     "name": "stdout",
     "output_type": "stream",
     "text": [
      "Feature Importance according to RandomForestClassifier\n"
     ]
    },
    {
     "data": {
      "text/html": [
       "<div>\n",
       "<style scoped>\n",
       "    .dataframe tbody tr th:only-of-type {\n",
       "        vertical-align: middle;\n",
       "    }\n",
       "\n",
       "    .dataframe tbody tr th {\n",
       "        vertical-align: top;\n",
       "    }\n",
       "\n",
       "    .dataframe thead th {\n",
       "        text-align: right;\n",
       "    }\n",
       "</style>\n",
       "<table border=\"1\" class=\"dataframe\">\n",
       "  <thead>\n",
       "    <tr style=\"text-align: right;\">\n",
       "      <th></th>\n",
       "      <th>idx</th>\n",
       "      <th>name</th>\n",
       "      <th>score</th>\n",
       "    </tr>\n",
       "  </thead>\n",
       "  <tbody>\n",
       "    <tr>\n",
       "      <th>2900</th>\n",
       "      <td>2894</td>\n",
       "      <td>moves_new3_class_vec_Qxf2#</td>\n",
       "      <td>0.086035</td>\n",
       "    </tr>\n",
       "    <tr>\n",
       "      <th>1522</th>\n",
       "      <td>1516</td>\n",
       "      <td>moves_new2_class_vec_Kh8</td>\n",
       "      <td>0.061678</td>\n",
       "    </tr>\n",
       "    <tr>\n",
       "      <th>2901</th>\n",
       "      <td>2895</td>\n",
       "      <td>moves_new3_class_vec_Qf2#</td>\n",
       "      <td>0.050262</td>\n",
       "    </tr>\n",
       "    <tr>\n",
       "      <th>1526</th>\n",
       "      <td>1520</td>\n",
       "      <td>moves_new2_class_vec_Kg1</td>\n",
       "      <td>0.045928</td>\n",
       "    </tr>\n",
       "    <tr>\n",
       "      <th>1533</th>\n",
       "      <td>1527</td>\n",
       "      <td>moves_new2_class_vec_Ke2</td>\n",
       "      <td>0.042275</td>\n",
       "    </tr>\n",
       "    <tr>\n",
       "      <th>0</th>\n",
       "      <td>4946</td>\n",
       "      <td>black_rating</td>\n",
       "      <td>0.036453</td>\n",
       "    </tr>\n",
       "    <tr>\n",
       "      <th>1546</th>\n",
       "      <td>1540</td>\n",
       "      <td>moves_new2_class_vec_Kd2</td>\n",
       "      <td>0.035300</td>\n",
       "    </tr>\n",
       "    <tr>\n",
       "      <th>2898</th>\n",
       "      <td>2892</td>\n",
       "      <td>moves_new3_class_vec_Qf7#</td>\n",
       "      <td>0.035298</td>\n",
       "    </tr>\n",
       "    <tr>\n",
       "      <th>1543</th>\n",
       "      <td>1537</td>\n",
       "      <td>moves_new2_class_vec_Kd1</td>\n",
       "      <td>0.031475</td>\n",
       "    </tr>\n",
       "    <tr>\n",
       "      <th>1536</th>\n",
       "      <td>1530</td>\n",
       "      <td>moves_new2_class_vec_Ke1</td>\n",
       "      <td>0.031467</td>\n",
       "    </tr>\n",
       "    <tr>\n",
       "      <th>1540</th>\n",
       "      <td>1534</td>\n",
       "      <td>moves_new2_class_vec_Kf2</td>\n",
       "      <td>0.030360</td>\n",
       "    </tr>\n",
       "    <tr>\n",
       "      <th>1597</th>\n",
       "      <td>1591</td>\n",
       "      <td>moves_new2_class_vec_Rf1</td>\n",
       "      <td>0.025012</td>\n",
       "    </tr>\n",
       "    <tr>\n",
       "      <th>1523</th>\n",
       "      <td>1517</td>\n",
       "      <td>moves_new2_class_vec_Kf8</td>\n",
       "      <td>0.022163</td>\n",
       "    </tr>\n",
       "    <tr>\n",
       "      <th>1528</th>\n",
       "      <td>1522</td>\n",
       "      <td>moves_new2_class_vec_Kg8</td>\n",
       "      <td>0.020249</td>\n",
       "    </tr>\n",
       "    <tr>\n",
       "      <th>1529</th>\n",
       "      <td>1523</td>\n",
       "      <td>moves_new2_class_vec_Kd8</td>\n",
       "      <td>0.019544</td>\n",
       "    </tr>\n",
       "  </tbody>\n",
       "</table>\n",
       "</div>"
      ],
      "text/plain": [
       "       idx                        name     score\n",
       "2900  2894  moves_new3_class_vec_Qxf2#  0.086035\n",
       "1522  1516    moves_new2_class_vec_Kh8  0.061678\n",
       "2901  2895   moves_new3_class_vec_Qf2#  0.050262\n",
       "1526  1520    moves_new2_class_vec_Kg1  0.045928\n",
       "1533  1527    moves_new2_class_vec_Ke2  0.042275\n",
       "0     4946                black_rating  0.036453\n",
       "1546  1540    moves_new2_class_vec_Kd2  0.035300\n",
       "2898  2892   moves_new3_class_vec_Qf7#  0.035298\n",
       "1543  1537    moves_new2_class_vec_Kd1  0.031475\n",
       "1536  1530    moves_new2_class_vec_Ke1  0.031467\n",
       "1540  1534    moves_new2_class_vec_Kf2  0.030360\n",
       "1597  1591    moves_new2_class_vec_Rf1  0.025012\n",
       "1523  1517    moves_new2_class_vec_Kf8  0.022163\n",
       "1528  1522    moves_new2_class_vec_Kg8  0.020249\n",
       "1529  1523    moves_new2_class_vec_Kd8  0.019544"
      ]
     },
     "execution_count": 89,
     "metadata": {},
     "output_type": "execute_result"
    }
   ],
   "source": [
    "def ExtractFeatureImp(featureImp, dataset, featuresCol):\n",
    "    list_extract = []\n",
    "    for i in dataset.schema[featuresCol].metadata[\"ml_attr\"][\"attrs\"]:\n",
    "        list_extract = list_extract + dataset.schema[featuresCol].metadata[\"ml_attr\"][\"attrs\"][i]\n",
    "    varlist = pd.DataFrame(list_extract)\n",
    "    varlist['score'] = varlist['idx'].apply(lambda x: featureImp[x])\n",
    "    return(varlist.sort_values('score', ascending = False))\n",
    "\n",
    "print(\"Feature Importance according to RandomForestClassifier\")\n",
    "ExtractFeatureImp(dt2Model.featureImportances, df_transform_fin, \"features\").head(15)"
   ]
  },
  {
   "cell_type": "code",
   "execution_count": null,
   "metadata": {},
   "outputs": [],
   "source": []
  },
  {
   "cell_type": "code",
   "execution_count": 63,
   "metadata": {
    "ExecuteTime": {
     "end_time": "2019-10-29T08:38:41.817926Z",
     "start_time": "2019-10-29T08:37:22.366582Z"
    }
   },
   "outputs": [
    {
     "name": "stdout",
     "output_type": "stream",
     "text": [
      "+-----------+--------------------+----------+--------------------+\n",
      "|label_index|       rawPrediction|prediction|         probability|\n",
      "+-----------+--------------------+----------+--------------------+\n",
      "|        0.0|[0.07832550896203...|       1.0|[0.35426958643812...|\n",
      "|        1.0|[-0.7747465818665...|       1.0|[0.01446011173150...|\n",
      "|        0.0|[2.32551393344361...|       0.0|[0.91492911171162...|\n",
      "|        0.0|[2.44407460467075...|       0.0|[0.79324394198562...|\n",
      "|        0.0|[6.27017707591990...|       0.0|[0.99983544741904...|\n",
      "|        0.0|[-2.1241437294911...|       1.0|[3.04282149222622...|\n",
      "|        2.0|[1.82497119028347...|       0.0|[0.69026548653943...|\n",
      "|        0.0|[2.20055334692985...|       0.0|[0.92918447626717...|\n",
      "|        1.0|[1.14902753173228...|       1.0|[0.10971668049453...|\n",
      "|        0.0|[0.68414187201709...|       1.0|[0.36142987688250...|\n",
      "+-----------+--------------------+----------+--------------------+\n",
      "only showing top 10 rows\n",
      "\n"
     ]
    }
   ],
   "source": [
    "dt3 = LogisticRegression(featuresCol = 'features', labelCol = 'label_index', maxIter = 10)\n",
    "\n",
    "dt3Model = dt3.fit(train_data)\n",
    "\n",
    "predictions3 = dt3Model.transform(test_data)\n",
    "predictions3.select('label_index', 'rawPrediction', 'prediction', 'probability').show(10)"
   ]
  },
  {
   "cell_type": "code",
   "execution_count": 64,
   "metadata": {
    "ExecuteTime": {
     "end_time": "2019-10-29T08:39:06.708178Z",
     "start_time": "2019-10-29T08:38:41.828405Z"
    }
   },
   "outputs": [
    {
     "name": "stdout",
     "output_type": "stream",
     "text": [
      "Test Set Accuracy = 0.699042\n"
     ]
    }
   ],
   "source": [
    "evaluator3 = MulticlassClassificationEvaluator(\n",
    "    labelCol=\"label_index\", predictionCol=\"prediction\", metricName=\"accuracy\")\n",
    "accuracy3 = evaluator3.evaluate(predictions3)\n",
    "print(\"Test Set Accuracy = %g\" % (accuracy3))"
   ]
  },
  {
   "cell_type": "code",
   "execution_count": 68,
   "metadata": {
    "ExecuteTime": {
     "end_time": "2019-10-29T08:51:54.642499Z",
     "start_time": "2019-10-29T08:51:54.622211Z"
    }
   },
   "outputs": [],
   "source": [
    "from pyspark.ml.tuning import ParamGridBuilder, CrossValidator\n",
    "\n",
    "paramGrid = ParamGridBuilder()\\\n",
    "    .addGrid(dt3.aggregationDepth,[2,5,10])\\\n",
    "    .addGrid(dt3.elasticNetParam,[0.0, 0.5, 1.0])\\\n",
    "    .addGrid(dt3.fitIntercept,[False, True])\\\n",
    "    .addGrid(dt3.maxIter,[10, 100, 1000])\\\n",
    "    .addGrid(dt3.regParam,[0.01, 0.5, 2.0]) \\\n",
    "    .build()\n",
    "\n",
    "paramGrid = ParamGridBuilder()\\\n",
    "    .addGrid(dt3.aggregationDepth,[2,5])\\\n",
    "    .addGrid(dt3.elasticNetParam,[0.0, 0.5, 1.0])\\\n",
    "    .addGrid(dt3.regParam,[0.01, 0.5, 2.0]) \\\n",
    "    .build()"
   ]
  },
  {
   "cell_type": "code",
   "execution_count": 69,
   "metadata": {
    "ExecuteTime": {
     "end_time": "2019-10-29T10:13:01.074781Z",
     "start_time": "2019-10-29T08:52:00.585099Z"
    }
   },
   "outputs": [
    {
     "name": "stderr",
     "output_type": "stream",
     "text": [
      "Exception ignored in: <object repr() failed>\n",
      "Traceback (most recent call last):\n",
      "  File \"/usr/local/Cellar/apache-spark/2.4.3/libexec/python/pyspark/ml/wrapper.py\", line 40, in __del__\n",
      "    if SparkContext._active_spark_context and self._java_obj is not None:\n",
      "AttributeError: 'LogisticRegression' object has no attribute '_java_obj'\n"
     ]
    },
    {
     "name": "stdout",
     "output_type": "stream",
     "text": [
      "Model fitted\n",
      "The accuracy on the training set after cv is 0.7899291896144768\n",
      "The accuracy on the test set after cv is 0.7311577311577312\n"
     ]
    }
   ],
   "source": [
    "#1h20m with \n",
    "'''paramGrid = ParamGridBuilder()\\\n",
    "    .addGrid(dt3.aggregationDepth,[2,5])\\  \n",
    "    .addGrid(dt3.elasticNetParam,[0.0, 0.5, 1.0])\\\n",
    "    .addGrid(dt3.regParam,[0.01, 0.5, 2.0]) \\\n",
    "    .build() '''\n",
    "\n",
    "#Create 3-fold CrossValidator\n",
    "cv = CrossValidator(estimator=dt3, estimatorParamMaps=paramGrid, evaluator=evaluator3, numFolds=3)\n",
    "# Run cross validations\n",
    "cvModel = cv.fit(train_data)\n",
    "print(\"Model fitted\")\n",
    "# this will likely take a fair amount of time because of the amount of models that we're creating and testing\n",
    "predict_train=cvModel.transform(train_data)\n",
    "predict_test=cvModel.transform(test_data)\n",
    "print(\"The accuracy on the training set after cv is {}\".format(evaluator3.evaluate(predict_train)))\n",
    "print(\"The accuracy on the test set after cv is {}\".format(evaluator3.evaluate(predict_test)))"
   ]
  },
  {
   "cell_type": "code",
   "execution_count": 77,
   "metadata": {
    "ExecuteTime": {
     "end_time": "2019-10-29T10:19:28.208830Z",
     "start_time": "2019-10-29T10:19:28.201744Z"
    }
   },
   "outputs": [],
   "source": [
    "bestmod = cvModel.bestModel\n",
    "bestParams = bestmod.extractParamMap()\n",
    "# best are aggregationDepth=2, elasticNetParam=0.5, regParam=0.01"
   ]
  },
  {
   "cell_type": "code",
   "execution_count": 78,
   "metadata": {
    "ExecuteTime": {
     "end_time": "2019-10-29T10:19:29.599720Z",
     "start_time": "2019-10-29T10:19:29.593294Z"
    }
   },
   "outputs": [
    {
     "data": {
      "text/plain": [
       "{Param(parent='LogisticRegression_38de24403f56', name='aggregationDepth', doc='suggested depth for treeAggregate (>= 2)'): 2,\n",
       " Param(parent='LogisticRegression_38de24403f56', name='elasticNetParam', doc='the ElasticNet mixing parameter, in range [0, 1]. For alpha = 0, the penalty is an L2 penalty. For alpha = 1, it is an L1 penalty'): 0.5,\n",
       " Param(parent='LogisticRegression_38de24403f56', name='family', doc='The name of family which is a description of the label distribution to be used in the model. Supported options: auto, binomial, multinomial.'): 'auto',\n",
       " Param(parent='LogisticRegression_38de24403f56', name='featuresCol', doc='features column name'): 'features',\n",
       " Param(parent='LogisticRegression_38de24403f56', name='fitIntercept', doc='whether to fit an intercept term'): True,\n",
       " Param(parent='LogisticRegression_38de24403f56', name='labelCol', doc='label column name'): 'label_index',\n",
       " Param(parent='LogisticRegression_38de24403f56', name='maxIter', doc='maximum number of iterations (>= 0)'): 10,\n",
       " Param(parent='LogisticRegression_38de24403f56', name='predictionCol', doc='prediction column name'): 'prediction',\n",
       " Param(parent='LogisticRegression_38de24403f56', name='probabilityCol', doc='Column name for predicted class conditional probabilities. Note: Not all models output well-calibrated probability estimates! These probabilities should be treated as confidences, not precise probabilities'): 'probability',\n",
       " Param(parent='LogisticRegression_38de24403f56', name='rawPredictionCol', doc='raw prediction (a.k.a. confidence) column name'): 'rawPrediction',\n",
       " Param(parent='LogisticRegression_38de24403f56', name='regParam', doc='regularization parameter (>= 0)'): 0.01,\n",
       " Param(parent='LogisticRegression_38de24403f56', name='standardization', doc='whether to standardize the training features before fitting the model'): True,\n",
       " Param(parent='LogisticRegression_38de24403f56', name='threshold', doc='threshold in binary classification prediction, in range [0, 1]'): 0.5,\n",
       " Param(parent='LogisticRegression_38de24403f56', name='tol', doc='the convergence tolerance for iterative algorithms (>= 0)'): 1e-06}"
      ]
     },
     "execution_count": 78,
     "metadata": {},
     "output_type": "execute_result"
    }
   ],
   "source": [
    "bestParams"
   ]
  },
  {
   "cell_type": "code",
   "execution_count": null,
   "metadata": {},
   "outputs": [],
   "source": []
  },
  {
   "cell_type": "code",
   "execution_count": 173,
   "metadata": {
    "ExecuteTime": {
     "end_time": "2019-10-28T13:06:52.355572Z",
     "start_time": "2019-10-28T13:06:52.352723Z"
    }
   },
   "outputs": [],
   "source": [
    "#train_data.select(\"label_index\").count()"
   ]
  },
  {
   "cell_type": "code",
   "execution_count": 174,
   "metadata": {
    "ExecuteTime": {
     "end_time": "2019-10-28T13:06:54.951227Z",
     "start_time": "2019-10-28T13:06:54.947776Z"
    }
   },
   "outputs": [],
   "source": [
    "#train_data.select(\"label_index\").distinct().count()"
   ]
  },
  {
   "cell_type": "code",
   "execution_count": 119,
   "metadata": {
    "ExecuteTime": {
     "end_time": "2019-10-29T11:00:52.011299Z",
     "start_time": "2019-10-29T11:00:52.005667Z"
    }
   },
   "outputs": [
    {
     "name": "stdout",
     "output_type": "stream",
     "text": [
      "3\n",
      "4956\n"
     ]
    }
   ],
   "source": [
    "# Number of Classes\n",
    "nb_classes = 3#train_data.select(\"label_index\").distinct().count()\n",
    "print(nb_classes)\n",
    "\n",
    "# Number of Inputs or Input Dimensions\n",
    "input_dim = 4956#len(train_data.select(\"features\").first()[0])  #4953\n",
    "print(input_dim)"
   ]
  },
  {
   "cell_type": "code",
   "execution_count": 141,
   "metadata": {
    "ExecuteTime": {
     "end_time": "2019-10-29T11:19:45.026842Z",
     "start_time": "2019-10-29T11:19:44.610303Z"
    },
    "scrolled": true
   },
   "outputs": [],
   "source": [
    "# Set up Deep Learning Model / Architecture\n",
    "model = Sequential()\n",
    "model.add(Dense(512, input_shape=(input_dim,), activity_regularizer=regularizers.l2(0.01)))\n",
    "model.add(Activation('relu'))\n",
    "model.add(Dropout(rate=0.2))\n",
    "model.add(Dense(256, activity_regularizer=regularizers.l2(0.01)))\n",
    "model.add(Activation('relu'))\n",
    "model.add(Dropout(rate=0.2))\n",
    "model.add(Dense(256))\n",
    "model.add(Activation('relu'))\n",
    "model.add(Dropout(rate=0.2))\n",
    "model.add(Dense(128))\n",
    "model.add(Activation('relu'))\n",
    "model.add(Dropout(rate=0.2))\n",
    "model.add(Dense(nb_classes))\n",
    "model.add(Activation('softmax'))\n",
    "model.compile(loss='sparse_categorical_crossentropy', optimizer='adam', metrics=[\"accuracy\"])"
   ]
  },
  {
   "cell_type": "code",
   "execution_count": 142,
   "metadata": {
    "ExecuteTime": {
     "end_time": "2019-10-29T11:19:48.354025Z",
     "start_time": "2019-10-29T11:19:48.339851Z"
    }
   },
   "outputs": [
    {
     "name": "stdout",
     "output_type": "stream",
     "text": [
      "_________________________________________________________________\n",
      "Layer (type)                 Output Shape              Param #   \n",
      "=================================================================\n",
      "dense_46 (Dense)             (None, 512)               2537984   \n",
      "_________________________________________________________________\n",
      "activation_46 (Activation)   (None, 512)               0         \n",
      "_________________________________________________________________\n",
      "dropout_37 (Dropout)         (None, 512)               0         \n",
      "_________________________________________________________________\n",
      "dense_47 (Dense)             (None, 256)               131328    \n",
      "_________________________________________________________________\n",
      "activation_47 (Activation)   (None, 256)               0         \n",
      "_________________________________________________________________\n",
      "dropout_38 (Dropout)         (None, 256)               0         \n",
      "_________________________________________________________________\n",
      "dense_48 (Dense)             (None, 256)               65792     \n",
      "_________________________________________________________________\n",
      "activation_48 (Activation)   (None, 256)               0         \n",
      "_________________________________________________________________\n",
      "dropout_39 (Dropout)         (None, 256)               0         \n",
      "_________________________________________________________________\n",
      "dense_49 (Dense)             (None, 128)               32896     \n",
      "_________________________________________________________________\n",
      "activation_49 (Activation)   (None, 128)               0         \n",
      "_________________________________________________________________\n",
      "dropout_40 (Dropout)         (None, 128)               0         \n",
      "_________________________________________________________________\n",
      "dense_50 (Dense)             (None, 3)                 387       \n",
      "_________________________________________________________________\n",
      "activation_50 (Activation)   (None, 3)                 0         \n",
      "=================================================================\n",
      "Total params: 2,768,387\n",
      "Trainable params: 2,768,387\n",
      "Non-trainable params: 0\n",
      "_________________________________________________________________\n"
     ]
    }
   ],
   "source": [
    "model.summary()"
   ]
  },
  {
   "cell_type": "code",
   "execution_count": 143,
   "metadata": {
    "ExecuteTime": {
     "end_time": "2019-10-29T11:19:59.948269Z",
     "start_time": "2019-10-29T11:19:55.210766Z"
    }
   },
   "outputs": [],
   "source": [
    "le = LabelEncoder()\n",
    "\n",
    "dfp = df.toPandas()\n",
    "col_y = le.fit_transform(dfp.winner)\n",
    "dfp2 = dfp.drop([\"victory_status\", \"winner\", \"rated\"], 1)\n",
    "dfp3 = pd.get_dummies(dfp2)\n",
    "dfp3[\"winner\"] = col_y\n",
    "\n",
    "X_train, X_test, y_train, y_test = train_test_split(dfp3.drop([\"winner\"],1), \n",
    "                                                    dfp3.winner, test_size=0.2, random_state=42)"
   ]
  },
  {
   "cell_type": "code",
   "execution_count": 144,
   "metadata": {
    "ExecuteTime": {
     "end_time": "2019-10-29T11:20:02.907706Z",
     "start_time": "2019-10-29T11:20:02.900093Z"
    }
   },
   "outputs": [
    {
     "data": {
      "text/plain": [
       "array(['black', 'draw', 'white'], dtype=object)"
      ]
     },
     "execution_count": 144,
     "metadata": {},
     "output_type": "execute_result"
    }
   ],
   "source": [
    "le.inverse_transform([0, 1, 2])"
   ]
  },
  {
   "cell_type": "code",
   "execution_count": 145,
   "metadata": {
    "ExecuteTime": {
     "end_time": "2019-10-29T11:20:04.821683Z",
     "start_time": "2019-10-29T11:20:04.786477Z"
    }
   },
   "outputs": [
    {
     "data": {
      "text/html": [
       "<div>\n",
       "<style scoped>\n",
       "    .dataframe tbody tr th:only-of-type {\n",
       "        vertical-align: middle;\n",
       "    }\n",
       "\n",
       "    .dataframe tbody tr th {\n",
       "        vertical-align: top;\n",
       "    }\n",
       "\n",
       "    .dataframe thead th {\n",
       "        text-align: right;\n",
       "    }\n",
       "</style>\n",
       "<table border=\"1\" class=\"dataframe\">\n",
       "  <thead>\n",
       "    <tr style=\"text-align: right;\">\n",
       "      <th></th>\n",
       "      <th>rated</th>\n",
       "      <th>turns</th>\n",
       "      <th>victory_status</th>\n",
       "      <th>winner</th>\n",
       "      <th>white_rating</th>\n",
       "      <th>black_rating</th>\n",
       "      <th>opening_name</th>\n",
       "      <th>opening_ply</th>\n",
       "      <th>increment1</th>\n",
       "      <th>increment2</th>\n",
       "      <th>moves_new0</th>\n",
       "      <th>moves_new1</th>\n",
       "      <th>moves_new2</th>\n",
       "      <th>moves_new3</th>\n",
       "    </tr>\n",
       "  </thead>\n",
       "  <tbody>\n",
       "    <tr>\n",
       "      <th>0</th>\n",
       "      <td>True</td>\n",
       "      <td>139</td>\n",
       "      <td>draw</td>\n",
       "      <td>draw</td>\n",
       "      <td>1736</td>\n",
       "      <td>1893</td>\n",
       "      <td>Old Benoni Defense</td>\n",
       "      <td>2</td>\n",
       "      <td>10</td>\n",
       "      <td>0</td>\n",
       "      <td>d4</td>\n",
       "      <td>c5</td>\n",
       "      <td>Rh3</td>\n",
       "      <td>Kd2</td>\n",
       "    </tr>\n",
       "    <tr>\n",
       "      <th>1</th>\n",
       "      <td>True</td>\n",
       "      <td>96</td>\n",
       "      <td>resign</td>\n",
       "      <td>black</td>\n",
       "      <td>2209</td>\n",
       "      <td>2044</td>\n",
       "      <td>Sicilian Defense: Alapin Variation</td>\n",
       "      <td>3</td>\n",
       "      <td>8</td>\n",
       "      <td>0</td>\n",
       "      <td>e4</td>\n",
       "      <td>c5</td>\n",
       "      <td>Re2</td>\n",
       "      <td>a3</td>\n",
       "    </tr>\n",
       "    <tr>\n",
       "      <th>2</th>\n",
       "      <td>True</td>\n",
       "      <td>58</td>\n",
       "      <td>resign</td>\n",
       "      <td>black</td>\n",
       "      <td>1652</td>\n",
       "      <td>1624</td>\n",
       "      <td>Scotch Game: Malaniuk Variation</td>\n",
       "      <td>8</td>\n",
       "      <td>6</td>\n",
       "      <td>8</td>\n",
       "      <td>e4</td>\n",
       "      <td>e5</td>\n",
       "      <td>h3</td>\n",
       "      <td>Bd5</td>\n",
       "    </tr>\n",
       "    <tr>\n",
       "      <th>3</th>\n",
       "      <td>False</td>\n",
       "      <td>39</td>\n",
       "      <td>resign</td>\n",
       "      <td>white</td>\n",
       "      <td>1812</td>\n",
       "      <td>1820</td>\n",
       "      <td>Queen's Pawn Game: London System</td>\n",
       "      <td>5</td>\n",
       "      <td>10</td>\n",
       "      <td>0</td>\n",
       "      <td>d4</td>\n",
       "      <td>d5</td>\n",
       "      <td>h6</td>\n",
       "      <td>Qc4</td>\n",
       "    </tr>\n",
       "    <tr>\n",
       "      <th>4</th>\n",
       "      <td>True</td>\n",
       "      <td>93</td>\n",
       "      <td>resign</td>\n",
       "      <td>white</td>\n",
       "      <td>2217</td>\n",
       "      <td>1970</td>\n",
       "      <td>King's Pawn Game: Nimzowitsch Defense</td>\n",
       "      <td>3</td>\n",
       "      <td>10</td>\n",
       "      <td>0</td>\n",
       "      <td>e4</td>\n",
       "      <td>Nc6</td>\n",
       "      <td>Rd2+</td>\n",
       "      <td>Bxd2</td>\n",
       "    </tr>\n",
       "  </tbody>\n",
       "</table>\n",
       "</div>"
      ],
      "text/plain": [
       "   rated  turns victory_status winner  white_rating  black_rating  \\\n",
       "0   True    139           draw   draw          1736          1893   \n",
       "1   True     96         resign  black          2209          2044   \n",
       "2   True     58         resign  black          1652          1624   \n",
       "3  False     39         resign  white          1812          1820   \n",
       "4   True     93         resign  white          2217          1970   \n",
       "\n",
       "                            opening_name  opening_ply  increment1  increment2  \\\n",
       "0                     Old Benoni Defense            2          10           0   \n",
       "1     Sicilian Defense: Alapin Variation            3           8           0   \n",
       "2        Scotch Game: Malaniuk Variation            8           6           8   \n",
       "3       Queen's Pawn Game: London System            5          10           0   \n",
       "4  King's Pawn Game: Nimzowitsch Defense            3          10           0   \n",
       "\n",
       "  moves_new0 moves_new1 moves_new2 moves_new3  \n",
       "0         d4         c5        Rh3        Kd2  \n",
       "1         e4         c5        Re2         a3  \n",
       "2         e4         e5         h3        Bd5  \n",
       "3         d4         d5         h6        Qc4  \n",
       "4         e4        Nc6       Rd2+       Bxd2  "
      ]
     },
     "execution_count": 145,
     "metadata": {},
     "output_type": "execute_result"
    }
   ],
   "source": [
    "dfp.head()"
   ]
  },
  {
   "cell_type": "code",
   "execution_count": 146,
   "metadata": {
    "ExecuteTime": {
     "end_time": "2019-10-29T11:23:51.618672Z",
     "start_time": "2019-10-29T11:20:08.037909Z"
    },
    "scrolled": true
   },
   "outputs": [
    {
     "name": "stdout",
     "output_type": "stream",
     "text": [
      "Train on 15290 samples, validate on 3823 samples\n",
      "Epoch 1/30\n",
      "15290/15290 [==============================] - 10s 645us/step - loss: 474516.2953 - acc: 0.5012 - val_loss: 16100.8306 - val_acc: 0.5177\n",
      "Epoch 2/30\n",
      "15290/15290 [==============================] - 7s 468us/step - loss: 11158.7465 - acc: 0.4976 - val_loss: 8310.4972 - val_acc: 0.5443\n",
      "Epoch 3/30\n",
      "15290/15290 [==============================] - 7s 434us/step - loss: 6999.5011 - acc: 0.5167 - val_loss: 5511.2367 - val_acc: 0.5582\n",
      "Epoch 4/30\n",
      "15290/15290 [==============================] - 7s 440us/step - loss: 4642.3637 - acc: 0.5315 - val_loss: 3668.3742 - val_acc: 0.5739\n",
      "Epoch 5/30\n",
      "15290/15290 [==============================] - 7s 442us/step - loss: 3111.8474 - acc: 0.5519 - val_loss: 2472.1366 - val_acc: 0.5749\n",
      "Epoch 6/30\n",
      "15290/15290 [==============================] - 7s 447us/step - loss: 2102.4305 - acc: 0.5712 - val_loss: 1688.1430 - val_acc: 0.6066\n",
      "Epoch 7/30\n",
      "15290/15290 [==============================] - 7s 440us/step - loss: 1438.3820 - acc: 0.5950 - val_loss: 1165.0194 - val_acc: 0.6181\n",
      "Epoch 8/30\n",
      "15290/15290 [==============================] - 8s 517us/step - loss: 993.5015 - acc: 0.6102 - val_loss: 807.3107 - val_acc: 0.6367\n",
      "Epoch 9/30\n",
      "15290/15290 [==============================] - 8s 500us/step - loss: 690.6465 - acc: 0.6229 - val_loss: 565.2326 - val_acc: 0.6393\n",
      "Epoch 10/30\n",
      "15290/15290 [==============================] - 8s 546us/step - loss: 481.9598 - acc: 0.6378 - val_loss: 396.3738 - val_acc: 0.6479\n",
      "Epoch 11/30\n",
      "15290/15290 [==============================] - 7s 433us/step - loss: 337.0333 - acc: 0.6483 - val_loss: 281.7913 - val_acc: 0.6576\n",
      "Epoch 12/30\n",
      "15290/15290 [==============================] - 7s 427us/step - loss: 237.3828 - acc: 0.6564 - val_loss: 198.4267 - val_acc: 0.6673\n",
      "Epoch 13/30\n",
      "15290/15290 [==============================] - 6s 415us/step - loss: 167.4914 - acc: 0.6579 - val_loss: 141.0932 - val_acc: 0.6736\n",
      "Epoch 14/30\n",
      "15290/15290 [==============================] - 6s 421us/step - loss: 118.6145 - acc: 0.6640 - val_loss: 101.3215 - val_acc: 0.6772\n",
      "Epoch 15/30\n",
      "15290/15290 [==============================] - 8s 494us/step - loss: 84.9440 - acc: 0.6689 - val_loss: 73.0315 - val_acc: 0.6845\n",
      "Epoch 16/30\n",
      "15290/15290 [==============================] - 6s 404us/step - loss: 60.9974 - acc: 0.6740 - val_loss: 53.2763 - val_acc: 0.6869\n",
      "Epoch 17/30\n",
      "15290/15290 [==============================] - 6s 402us/step - loss: 44.3348 - acc: 0.6788 - val_loss: 39.4095 - val_acc: 0.6877\n",
      "Epoch 18/30\n",
      "15290/15290 [==============================] - 6s 398us/step - loss: 32.8778 - acc: 0.6833 - val_loss: 29.4528 - val_acc: 0.6921\n",
      "Epoch 19/30\n",
      "15290/15290 [==============================] - 7s 476us/step - loss: 24.6849 - acc: 0.6888 - val_loss: 22.7498 - val_acc: 0.6874\n",
      "Epoch 20/30\n",
      "15290/15290 [==============================] - 8s 535us/step - loss: 18.8769 - acc: 0.7006 - val_loss: 17.5699 - val_acc: 0.7021\n",
      "Epoch 21/30\n",
      "15290/15290 [==============================] - 9s 566us/step - loss: 15.0199 - acc: 0.7112 - val_loss: 15.2910 - val_acc: 0.6981\n",
      "Epoch 22/30\n",
      "15290/15290 [==============================] - 7s 445us/step - loss: 12.4412 - acc: 0.7173 - val_loss: 11.5499 - val_acc: 0.7110\n",
      "Epoch 23/30\n",
      "15290/15290 [==============================] - 7s 432us/step - loss: 9.9004 - acc: 0.7347 - val_loss: 10.2593 - val_acc: 0.7117\n",
      "Epoch 24/30\n",
      "15290/15290 [==============================] - 8s 551us/step - loss: 8.4235 - acc: 0.7499 - val_loss: 8.4853 - val_acc: 0.7136\n",
      "Epoch 25/30\n",
      "15290/15290 [==============================] - 7s 477us/step - loss: 7.5167 - acc: 0.7657 - val_loss: 10.1789 - val_acc: 0.7099\n",
      "Epoch 26/30\n",
      "15290/15290 [==============================] - 10s 671us/step - loss: 8.2449 - acc: 0.7434 - val_loss: 7.2165 - val_acc: 0.7083\n",
      "Epoch 27/30\n",
      "15290/15290 [==============================] - 8s 507us/step - loss: 6.3055 - acc: 0.7679 - val_loss: 6.3358 - val_acc: 0.7151\n",
      "Epoch 28/30\n",
      "15290/15290 [==============================] - 8s 491us/step - loss: 6.0304 - acc: 0.7670 - val_loss: 6.8001 - val_acc: 0.6123\n",
      "Epoch 29/30\n",
      "15290/15290 [==============================] - 8s 518us/step - loss: 7.1322 - acc: 0.7508 - val_loss: 9.0569 - val_acc: 0.7107\n",
      "Epoch 30/30\n",
      "15290/15290 [==============================] - 8s 507us/step - loss: 6.1608 - acc: 0.7827 - val_loss: 7.8484 - val_acc: 0.6900\n"
     ]
    }
   ],
   "source": [
    "#without StandardScaler\n",
    "history1 = model.fit(X_train, y_train, epochs=30, batch_size=256, validation_data=(X_test,y_test))"
   ]
  },
  {
   "cell_type": "code",
   "execution_count": 147,
   "metadata": {
    "ExecuteTime": {
     "end_time": "2019-10-29T11:24:10.322923Z",
     "start_time": "2019-10-29T11:24:09.825506Z"
    }
   },
   "outputs": [
    {
     "data": {
      "image/png": "[encoded data removed]",
      "text/plain": [
       "<Figure size 432x288 with 1 Axes>"
      ]
     },
     "metadata": {
      "needs_background": "light"
     },
     "output_type": "display_data"
    }
   ],
   "source": [
    "# Plot training & validation accuracy values\n",
    "plt.plot(history1.history['acc'])\n",
    "plt.plot(history1.history['val_acc'])\n",
    "plt.title('Model accuracy')\n",
    "plt.ylabel('Accuracy')\n",
    "plt.xlabel('Epoch')\n",
    "plt.legend(['Train', 'Test'], loc='upper left')\n",
    "plt.show()"
   ]
  },
  {
   "cell_type": "code",
   "execution_count": 148,
   "metadata": {
    "ExecuteTime": {
     "end_time": "2019-10-29T11:24:21.379838Z",
     "start_time": "2019-10-29T11:24:20.450417Z"
    }
   },
   "outputs": [
    {
     "name": "stdout",
     "output_type": "stream",
     "text": [
      "3823/3823 [==============================] - 1s 212us/step\n"
     ]
    },
    {
     "data": {
      "text/plain": [
       "[1.619167909677073, 0.6900340047395264]"
      ]
     },
     "execution_count": 148,
     "metadata": {},
     "output_type": "execute_result"
    }
   ],
   "source": [
    "model.evaluate(X_test, y_test)"
   ]
  },
  {
   "cell_type": "code",
   "execution_count": 123,
   "metadata": {
    "ExecuteTime": {
     "end_time": "2019-10-29T11:01:11.767500Z",
     "start_time": "2019-10-29T11:01:06.465688Z"
    }
   },
   "outputs": [],
   "source": [
    "#le = LabelEncoder()\n",
    "scaler = StandardScaler()\n",
    "\n",
    "dfp = df.toPandas()\n",
    "col_y = le.fit_transform(dfp.winner)\n",
    "\n",
    "for col_name in [\"turns\", \"white_rating\", \"black_rating\", \"opening_ply\", \"increment1\", \"increment2\"]:\n",
    "    dfp[col_name]= scaler.fit_transform(dfp[col_name].values.reshape(-1, 1))\n",
    "\n",
    "dfp2 = dfp.drop([\"victory_status\", \"winner\", \"rated\"], 1)\n",
    "dfp3 = pd.get_dummies(dfp2)\n",
    "dfp3[\"winner\"] = col_y\n",
    "\n",
    "X_train, X_test, y_train, y_test = train_test_split(dfp3.drop([\"winner\"],1), \n",
    "                                                    dfp3.winner, test_size=0.2, random_state=42)"
   ]
  },
  {
   "cell_type": "code",
   "execution_count": 124,
   "metadata": {
    "ExecuteTime": {
     "end_time": "2019-10-29T11:01:11.839435Z",
     "start_time": "2019-10-29T11:01:11.790164Z"
    }
   },
   "outputs": [
    {
     "data": {
      "text/html": [
       "<div>\n",
       "<style scoped>\n",
       "    .dataframe tbody tr th:only-of-type {\n",
       "        vertical-align: middle;\n",
       "    }\n",
       "\n",
       "    .dataframe tbody tr th {\n",
       "        vertical-align: top;\n",
       "    }\n",
       "\n",
       "    .dataframe thead th {\n",
       "        text-align: right;\n",
       "    }\n",
       "</style>\n",
       "<table border=\"1\" class=\"dataframe\">\n",
       "  <thead>\n",
       "    <tr style=\"text-align: right;\">\n",
       "      <th></th>\n",
       "      <th>rated</th>\n",
       "      <th>turns</th>\n",
       "      <th>victory_status</th>\n",
       "      <th>winner</th>\n",
       "      <th>white_rating</th>\n",
       "      <th>black_rating</th>\n",
       "      <th>opening_name</th>\n",
       "      <th>opening_ply</th>\n",
       "      <th>increment1</th>\n",
       "      <th>increment2</th>\n",
       "      <th>moves_new0</th>\n",
       "      <th>moves_new1</th>\n",
       "      <th>moves_new2</th>\n",
       "      <th>moves_new3</th>\n",
       "    </tr>\n",
       "  </thead>\n",
       "  <tbody>\n",
       "    <tr>\n",
       "      <th>0</th>\n",
       "      <td>True</td>\n",
       "      <td>2.343753</td>\n",
       "      <td>draw</td>\n",
       "      <td>draw</td>\n",
       "      <td>0.478251</td>\n",
       "      <td>1.043109</td>\n",
       "      <td>Old Benoni Defense</td>\n",
       "      <td>-1.006279</td>\n",
       "      <td>-0.221724</td>\n",
       "      <td>-0.372712</td>\n",
       "      <td>d4</td>\n",
       "      <td>c5</td>\n",
       "      <td>Rh3</td>\n",
       "      <td>Kd2</td>\n",
       "    </tr>\n",
       "    <tr>\n",
       "      <th>1</th>\n",
       "      <td>True</td>\n",
       "      <td>1.059687</td>\n",
       "      <td>resign</td>\n",
       "      <td>black</td>\n",
       "      <td>2.109200</td>\n",
       "      <td>1.563021</td>\n",
       "      <td>Sicilian Defense: Alapin Variation</td>\n",
       "      <td>-0.648908</td>\n",
       "      <td>-0.338875</td>\n",
       "      <td>-0.372712</td>\n",
       "      <td>e4</td>\n",
       "      <td>c5</td>\n",
       "      <td>Re2</td>\n",
       "      <td>a3</td>\n",
       "    </tr>\n",
       "    <tr>\n",
       "      <th>2</th>\n",
       "      <td>True</td>\n",
       "      <td>-0.075068</td>\n",
       "      <td>resign</td>\n",
       "      <td>black</td>\n",
       "      <td>0.188611</td>\n",
       "      <td>0.116909</td>\n",
       "      <td>Scotch Game: Malaniuk Variation</td>\n",
       "      <td>1.137949</td>\n",
       "      <td>-0.456026</td>\n",
       "      <td>0.206652</td>\n",
       "      <td>e4</td>\n",
       "      <td>e5</td>\n",
       "      <td>h3</td>\n",
       "      <td>Bd5</td>\n",
       "    </tr>\n",
       "    <tr>\n",
       "      <th>3</th>\n",
       "      <td>False</td>\n",
       "      <td>-0.642446</td>\n",
       "      <td>resign</td>\n",
       "      <td>white</td>\n",
       "      <td>0.740306</td>\n",
       "      <td>0.791761</td>\n",
       "      <td>Queen's Pawn Game: London System</td>\n",
       "      <td>0.065835</td>\n",
       "      <td>-0.221724</td>\n",
       "      <td>-0.372712</td>\n",
       "      <td>d4</td>\n",
       "      <td>d5</td>\n",
       "      <td>h6</td>\n",
       "      <td>Qc4</td>\n",
       "    </tr>\n",
       "    <tr>\n",
       "      <th>4</th>\n",
       "      <td>True</td>\n",
       "      <td>0.970101</td>\n",
       "      <td>resign</td>\n",
       "      <td>white</td>\n",
       "      <td>2.136785</td>\n",
       "      <td>1.308230</td>\n",
       "      <td>King's Pawn Game: Nimzowitsch Defense</td>\n",
       "      <td>-0.648908</td>\n",
       "      <td>-0.221724</td>\n",
       "      <td>-0.372712</td>\n",
       "      <td>e4</td>\n",
       "      <td>Nc6</td>\n",
       "      <td>Rd2+</td>\n",
       "      <td>Bxd2</td>\n",
       "    </tr>\n",
       "  </tbody>\n",
       "</table>\n",
       "</div>"
      ],
      "text/plain": [
       "   rated     turns victory_status winner  white_rating  black_rating  \\\n",
       "0   True  2.343753           draw   draw      0.478251      1.043109   \n",
       "1   True  1.059687         resign  black      2.109200      1.563021   \n",
       "2   True -0.075068         resign  black      0.188611      0.116909   \n",
       "3  False -0.642446         resign  white      0.740306      0.791761   \n",
       "4   True  0.970101         resign  white      2.136785      1.308230   \n",
       "\n",
       "                            opening_name  opening_ply  increment1  increment2  \\\n",
       "0                     Old Benoni Defense    -1.006279   -0.221724   -0.372712   \n",
       "1     Sicilian Defense: Alapin Variation    -0.648908   -0.338875   -0.372712   \n",
       "2        Scotch Game: Malaniuk Variation     1.137949   -0.456026    0.206652   \n",
       "3       Queen's Pawn Game: London System     0.065835   -0.221724   -0.372712   \n",
       "4  King's Pawn Game: Nimzowitsch Defense    -0.648908   -0.221724   -0.372712   \n",
       "\n",
       "  moves_new0 moves_new1 moves_new2 moves_new3  \n",
       "0         d4         c5        Rh3        Kd2  \n",
       "1         e4         c5        Re2         a3  \n",
       "2         e4         e5         h3        Bd5  \n",
       "3         d4         d5         h6        Qc4  \n",
       "4         e4        Nc6       Rd2+       Bxd2  "
      ]
     },
     "execution_count": 124,
     "metadata": {},
     "output_type": "execute_result"
    }
   ],
   "source": [
    "dfp.head()"
   ]
  },
  {
   "cell_type": "code",
   "execution_count": 135,
   "metadata": {
    "ExecuteTime": {
     "end_time": "2019-10-29T11:13:09.900131Z",
     "start_time": "2019-10-29T11:09:20.929388Z"
    },
    "scrolled": true
   },
   "outputs": [
    {
     "name": "stdout",
     "output_type": "stream",
     "text": [
      "Train on 15290 samples, validate on 3823 samples\n",
      "Epoch 1/20\n",
      "15290/15290 [==============================] - 13s 863us/step - loss: 1.5176 - acc: 0.5857 - val_loss: 0.9866 - val_acc: 0.7146\n",
      "Epoch 2/20\n",
      "15290/15290 [==============================] - 10s 673us/step - loss: 0.9287 - acc: 0.7600 - val_loss: 1.0151 - val_acc: 0.7264\n",
      "Epoch 3/20\n",
      "15290/15290 [==============================] - 11s 691us/step - loss: 0.8530 - acc: 0.8101 - val_loss: 1.1182 - val_acc: 0.7154\n",
      "Epoch 4/20\n",
      "15290/15290 [==============================] - 12s 755us/step - loss: 0.8160 - acc: 0.8547 - val_loss: 1.2339 - val_acc: 0.7086\n",
      "Epoch 5/20\n",
      "15290/15290 [==============================] - 13s 858us/step - loss: 0.7902 - acc: 0.8776 - val_loss: 1.3570 - val_acc: 0.7086\n",
      "Epoch 6/20\n",
      "15290/15290 [==============================] - 12s 801us/step - loss: 0.7404 - acc: 0.9002 - val_loss: 1.3812 - val_acc: 0.6830\n",
      "Epoch 7/20\n",
      "15290/15290 [==============================] - 10s 685us/step - loss: 0.7279 - acc: 0.9122 - val_loss: 1.4471 - val_acc: 0.6945\n",
      "Epoch 8/20\n",
      "15290/15290 [==============================] - 9s 620us/step - loss: 0.6892 - acc: 0.9264 - val_loss: 1.5650 - val_acc: 0.6715\n",
      "Epoch 9/20\n",
      "15290/15290 [==============================] - 10s 669us/step - loss: 0.6860 - acc: 0.9280 - val_loss: 1.5555 - val_acc: 0.6906\n",
      "Epoch 10/20\n",
      "15290/15290 [==============================] - 12s 762us/step - loss: 0.6593 - acc: 0.9337 - val_loss: 1.5420 - val_acc: 0.6754\n",
      "Epoch 11/20\n",
      "15290/15290 [==============================] - 11s 731us/step - loss: 0.6345 - acc: 0.9393 - val_loss: 1.6545 - val_acc: 0.6882\n",
      "Epoch 12/20\n",
      "15290/15290 [==============================] - 11s 726us/step - loss: 0.6424 - acc: 0.9394 - val_loss: 1.6213 - val_acc: 0.6798\n",
      "Epoch 13/20\n",
      "15290/15290 [==============================] - 11s 732us/step - loss: 0.6309 - acc: 0.9441 - val_loss: 1.5878 - val_acc: 0.6950\n",
      "Epoch 14/20\n",
      "15290/15290 [==============================] - 11s 698us/step - loss: 0.6067 - acc: 0.9478 - val_loss: 1.6762 - val_acc: 0.6864\n",
      "Epoch 15/20\n",
      "15290/15290 [==============================] - 10s 660us/step - loss: 0.6041 - acc: 0.9508 - val_loss: 1.6451 - val_acc: 0.6963\n",
      "Epoch 16/20\n",
      "15290/15290 [==============================] - 11s 723us/step - loss: 0.5916 - acc: 0.9504 - val_loss: 1.6099 - val_acc: 0.6882\n",
      "Epoch 17/20\n",
      "15290/15290 [==============================] - 11s 724us/step - loss: 0.5828 - acc: 0.9518 - val_loss: 1.6314 - val_acc: 0.6895\n",
      "Epoch 18/20\n",
      "15290/15290 [==============================] - 12s 808us/step - loss: 0.5688 - acc: 0.9551 - val_loss: 1.7095 - val_acc: 0.6840\n",
      "Epoch 19/20\n",
      "15290/15290 [==============================] - 11s 727us/step - loss: 0.5743 - acc: 0.9510 - val_loss: 1.6933 - val_acc: 0.6722\n",
      "Epoch 20/20\n",
      "15290/15290 [==============================] - 13s 858us/step - loss: 0.5436 - acc: 0.9572 - val_loss: 1.8051 - val_acc: 0.6730\n"
     ]
    }
   ],
   "source": [
    "#with StandardScaler\n",
    "history2 = model.fit(X_train, y_train, epochs=20, batch_size=128, validation_data=(X_test,y_test))"
   ]
  },
  {
   "cell_type": "code",
   "execution_count": 136,
   "metadata": {
    "ExecuteTime": {
     "end_time": "2019-10-29T11:13:13.047883Z",
     "start_time": "2019-10-29T11:13:12.320574Z"
    }
   },
   "outputs": [
    {
     "data": {
      "image/png": "[encoded data removed]",
      "text/plain": [
       "<Figure size 432x288 with 1 Axes>"
      ]
     },
     "metadata": {
      "needs_background": "light"
     },
     "output_type": "display_data"
    }
   ],
   "source": [
    "# Plot training & validation accuracy values\n",
    "plt.plot(history2.history['acc'])\n",
    "plt.plot(history2.history['val_acc'])\n",
    "plt.title('Model accuracy')\n",
    "plt.ylabel('Accuracy')\n",
    "plt.xlabel('Epoch')\n",
    "plt.legend(['Train', 'Test'], loc='upper left')\n",
    "plt.show()"
   ]
  },
  {
   "cell_type": "code",
   "execution_count": 138,
   "metadata": {
    "ExecuteTime": {
     "end_time": "2019-10-29T11:15:17.212203Z",
     "start_time": "2019-10-29T11:14:13.036469Z"
    }
   },
   "outputs": [
    {
     "name": "stdout",
     "output_type": "stream",
     "text": [
      "Train on 15290 samples, validate on 3823 samples\n",
      "Epoch 1/5\n",
      "15290/15290 [==============================] - 16s 1ms/step - loss: 1.4989 - acc: 0.5768 - val_loss: 1.0055 - val_acc: 0.7031\n",
      "Epoch 2/5\n",
      "15290/15290 [==============================] - 12s 782us/step - loss: 0.9270 - acc: 0.7542 - val_loss: 1.0049 - val_acc: 0.7185\n",
      "Epoch 3/5\n",
      "15290/15290 [==============================] - 11s 725us/step - loss: 0.8554 - acc: 0.8076 - val_loss: 1.1710 - val_acc: 0.6921\n",
      "Epoch 4/5\n",
      "15290/15290 [==============================] - 11s 699us/step - loss: 0.8206 - acc: 0.8449 - val_loss: 1.1969 - val_acc: 0.7063\n",
      "Epoch 5/5\n",
      "15290/15290 [==============================] - 11s 732us/step - loss: 0.7833 - acc: 0.8772 - val_loss: 1.3178 - val_acc: 0.7002\n"
     ]
    }
   ],
   "source": [
    "#with StandardScaler, less epochs\n",
    "history3 = model.fit(X_train, y_train, epochs=5, batch_size=128, validation_data=(X_test,y_test))"
   ]
  },
  {
   "cell_type": "code",
   "execution_count": 139,
   "metadata": {
    "ExecuteTime": {
     "end_time": "2019-10-29T11:15:19.850964Z",
     "start_time": "2019-10-29T11:15:19.319946Z"
    }
   },
   "outputs": [
    {
     "data": {
      "image/png": "[encoded data removed]",
      "text/plain": [
       "<Figure size 432x288 with 1 Axes>"
      ]
     },
     "metadata": {
      "needs_background": "light"
     },
     "output_type": "display_data"
    }
   ],
   "source": [
    "# Plot training validation accuracy values\n",
    "plt.plot(history3.history['acc'])\n",
    "plt.plot(history3.history['val_acc'])\n",
    "plt.title('Model accuracy')\n",
    "plt.ylabel('Accuracy')\n",
    "plt.xlabel('Epoch')\n",
    "plt.legend(['Train', 'Test'], loc='upper left')\n",
    "plt.show()"
   ]
  },
  {
   "cell_type": "code",
   "execution_count": 140,
   "metadata": {
    "ExecuteTime": {
     "end_time": "2019-10-29T11:15:48.709940Z",
     "start_time": "2019-10-29T11:15:47.676250Z"
    }
   },
   "outputs": [
    {
     "name": "stdout",
     "output_type": "stream",
     "text": [
      "3823/3823 [==============================] - 1s 230us/step\n"
     ]
    },
    {
     "data": {
      "text/plain": [
       "[0.9364024672463338, 0.7002354172583871]"
      ]
     },
     "execution_count": 140,
     "metadata": {},
     "output_type": "execute_result"
    }
   ],
   "source": [
    "model.evaluate(X_test, y_test)"
   ]
  },
  {
   "cell_type": "code",
   "execution_count": 159,
   "metadata": {
    "ExecuteTime": {
     "end_time": "2019-10-29T11:45:51.574265Z",
     "start_time": "2019-10-29T11:45:50.739969Z"
    }
   },
   "outputs": [],
   "source": [
    "model2 = Sequential()\n",
    "model2.add(Dense(1024, input_shape=(input_dim,), activity_regularizer=regularizers.l2(0.01)))\n",
    "model2.add(Activation('relu'))\n",
    "model2.add(Dropout(rate=0.2))\n",
    "model2.add(Dense(512, activity_regularizer=regularizers.l2(0.01)))\n",
    "model2.add(Activation('relu'))\n",
    "model2.add(Dropout(rate=0.2))\n",
    "model2.add(Dense(256))\n",
    "model2.add(Activation('relu'))\n",
    "model2.add(Dropout(rate=0.2))\n",
    "model2.add(Dense(128))\n",
    "model2.add(Activation('relu'))\n",
    "model2.add(Dropout(rate=0.2))\n",
    "model2.add(Dense(64))\n",
    "model2.add(Activation('relu'))\n",
    "model2.add(Dropout(rate=0.2))\n",
    "model2.add(Dense(nb_classes))\n",
    "model2.add(Activation('softmax'))\n",
    "model2.compile(loss='sparse_categorical_crossentropy', optimizer='adam', metrics=[\"accuracy\"])"
   ]
  },
  {
   "cell_type": "code",
   "execution_count": 160,
   "metadata": {
    "ExecuteTime": {
     "end_time": "2019-10-29T11:53:13.191472Z",
     "start_time": "2019-10-29T11:45:55.322554Z"
    },
    "scrolled": true
   },
   "outputs": [
    {
     "name": "stdout",
     "output_type": "stream",
     "text": [
      "Train on 15290 samples, validate on 3823 samples\n",
      "Epoch 1/30\n",
      "15290/15290 [==============================] - 19s 1ms/step - loss: 761454.4000 - acc: 0.4653 - val_loss: 28340.7632 - val_acc: 0.4311\n",
      "Epoch 2/30\n",
      "15290/15290 [==============================] - 14s 921us/step - loss: 20517.6986 - acc: 0.4780 - val_loss: 15308.5920 - val_acc: 0.4988\n",
      "Epoch 3/30\n",
      "15290/15290 [==============================] - 13s 881us/step - loss: 12844.3107 - acc: 0.4868 - val_loss: 9921.8374 - val_acc: 0.4959\n",
      "Epoch 4/30\n",
      "15290/15290 [==============================] - 15s 1ms/step - loss: 8283.3197 - acc: 0.4942 - val_loss: 6419.6704 - val_acc: 0.4962\n",
      "Epoch 5/30\n",
      "15290/15290 [==============================] - 15s 998us/step - loss: 5339.0282 - acc: 0.4963 - val_loss: 4171.8381 - val_acc: 0.4949\n",
      "Epoch 6/30\n",
      "15290/15290 [==============================] - 14s 944us/step - loss: 3475.9095 - acc: 0.4980 - val_loss: 2737.0189 - val_acc: 0.4949\n",
      "Epoch 7/30\n",
      "15290/15290 [==============================] - 13s 857us/step - loss: 2285.2822 - acc: 0.5184 - val_loss: 1811.1994 - val_acc: 0.5388\n",
      "Epoch 8/30\n",
      "15290/15290 [==============================] - 13s 853us/step - loss: 1514.8119 - acc: 0.5578 - val_loss: 1211.4257 - val_acc: 0.6291\n",
      "Epoch 9/30\n",
      "15290/15290 [==============================] - 14s 912us/step - loss: 1013.3612 - acc: 0.6150 - val_loss: 816.7990 - val_acc: 0.6490\n",
      "Epoch 10/30\n",
      "15290/15290 [==============================] - 13s 862us/step - loss: 682.7646 - acc: 0.6385 - val_loss: 554.2901 - val_acc: 0.6665\n",
      "Epoch 11/30\n",
      "15290/15290 [==============================] - 15s 981us/step - loss: 462.9577 - acc: 0.6523 - val_loss: 378.4063 - val_acc: 0.6746\n",
      "Epoch 12/30\n",
      "15290/15290 [==============================] - 15s 989us/step - loss: 315.8344 - acc: 0.6634 - val_loss: 261.0208 - val_acc: 0.6811\n",
      "Epoch 13/30\n",
      "15290/15290 [==============================] - 15s 975us/step - loss: 217.1697 - acc: 0.6693 - val_loss: 181.1434 - val_acc: 0.6858\n",
      "Epoch 14/30\n",
      "15290/15290 [==============================] - 14s 943us/step - loss: 150.1115 - acc: 0.6730 - val_loss: 128.1626 - val_acc: 0.6898\n",
      "Epoch 15/30\n",
      "15290/15290 [==============================] - 15s 953us/step - loss: 105.2546 - acc: 0.6798 - val_loss: 90.8393 - val_acc: 0.6908\n",
      "Epoch 16/30\n",
      "15290/15290 [==============================] - 15s 958us/step - loss: 74.6190 - acc: 0.6823 - val_loss: 65.4436 - val_acc: 0.6900\n",
      "Epoch 17/30\n",
      "15290/15290 [==============================] - 16s 1ms/step - loss: 53.7518 - acc: 0.6860 - val_loss: 48.2901 - val_acc: 0.6921\n",
      "Epoch 18/30\n",
      "15290/15290 [==============================] - 15s 970us/step - loss: 39.5685 - acc: 0.6948 - val_loss: 36.4650 - val_acc: 0.7015\n",
      "Epoch 19/30\n",
      "15290/15290 [==============================] - 13s 873us/step - loss: 29.8390 - acc: 0.7026 - val_loss: 28.1016 - val_acc: 0.7000\n",
      "Epoch 20/30\n",
      "15290/15290 [==============================] - 13s 882us/step - loss: 23.1054 - acc: 0.7101 - val_loss: 22.2994 - val_acc: 0.7089\n",
      "Epoch 21/30\n",
      "15290/15290 [==============================] - 14s 902us/step - loss: 18.4272 - acc: 0.7302 - val_loss: 18.2831 - val_acc: 0.7162\n",
      "Epoch 22/30\n",
      "15290/15290 [==============================] - 13s 879us/step - loss: 15.1572 - acc: 0.7498 - val_loss: 15.4264 - val_acc: 0.7209\n",
      "Epoch 23/30\n",
      "15290/15290 [==============================] - 13s 877us/step - loss: 12.9085 - acc: 0.7621 - val_loss: 13.6495 - val_acc: 0.6785\n",
      "Epoch 24/30\n",
      "15290/15290 [==============================] - 15s 985us/step - loss: 11.4718 - acc: 0.7715 - val_loss: 12.0752 - val_acc: 0.7298\n",
      "Epoch 25/30\n",
      "15290/15290 [==============================] - 15s 979us/step - loss: 10.5926 - acc: 0.7734 - val_loss: 11.1049 - val_acc: 0.6921\n",
      "Epoch 26/30\n",
      "15290/15290 [==============================] - 16s 1ms/step - loss: 13.4426 - acc: 0.7673 - val_loss: 19.8313 - val_acc: 0.6809\n",
      "Epoch 27/30\n",
      "15290/15290 [==============================] - 14s 907us/step - loss: 11.8941 - acc: 0.7609 - val_loss: 12.8536 - val_acc: 0.7175\n",
      "Epoch 28/30\n",
      "15290/15290 [==============================] - 14s 936us/step - loss: 10.6810 - acc: 0.7821 - val_loss: 9.7520 - val_acc: 0.6974\n",
      "Epoch 29/30\n",
      "15290/15290 [==============================] - 14s 932us/step - loss: 10.3105 - acc: 0.7691 - val_loss: 24.4877 - val_acc: 0.7170\n",
      "Epoch 30/30\n",
      "15290/15290 [==============================] - 14s 933us/step - loss: 18.8480 - acc: 0.7523 - val_loss: 8.6864 - val_acc: 0.6453\n"
     ]
    }
   ],
   "source": [
    "history4 = model2.fit(X_train, y_train, epochs=30, batch_size=256, validation_data=(X_test,y_test))"
   ]
  },
  {
   "cell_type": "code",
   "execution_count": 161,
   "metadata": {
    "ExecuteTime": {
     "end_time": "2019-10-29T11:58:10.890961Z",
     "start_time": "2019-10-29T11:58:10.372664Z"
    }
   },
   "outputs": [
    {
     "data": {
      "image/png": "[encoded data removed]",
      "text/plain": [
       "<Figure size 432x288 with 1 Axes>"
      ]
     },
     "metadata": {
      "needs_background": "light"
     },
     "output_type": "display_data"
    }
   ],
   "source": [
    "# Plot training validation accuracy values\n",
    "plt.plot(history4.history['acc'])\n",
    "plt.plot(history4.history['val_acc'])\n",
    "plt.title('Model accuracy')\n",
    "plt.ylabel('Accuracy')\n",
    "plt.xlabel('Epoch')\n",
    "plt.legend(['Train', 'Test'], loc='upper left')\n",
    "plt.show()"
   ]
  },
  {
   "cell_type": "code",
   "execution_count": 162,
   "metadata": {
    "ExecuteTime": {
     "end_time": "2019-10-29T11:58:48.398275Z",
     "start_time": "2019-10-29T11:58:46.894134Z"
    }
   },
   "outputs": [
    {
     "name": "stdout",
     "output_type": "stream",
     "text": [
      "3823/3823 [==============================] - 1s 369us/step\n"
     ]
    },
    {
     "data": {
      "text/plain": [
       "[1.838927321648554, 0.6453047345328824]"
      ]
     },
     "execution_count": 162,
     "metadata": {},
     "output_type": "execute_result"
    }
   ],
   "source": [
    "model2.evaluate(X_test, y_test)"
   ]
  }
 ],
 "metadata": {
  "kernelspec": {
   "display_name": "Python 3",
   "language": "python",
   "name": "python3"
  },
  "language_info": {
   "codemirror_mode": {
    "name": "ipython",
    "version": 3
   },
   "file_extension": ".py",
   "mimetype": "text/x-python",
   "name": "python",
   "nbconvert_exporter": "python",
   "pygments_lexer": "ipython3",
   "version": "3.6.5"
  },
  "toc": {
   "base_numbering": 1,
   "nav_menu": {},
   "number_sections": true,
   "sideBar": true,
   "skip_h1_title": false,
   "title_cell": "Table of Contents",
   "title_sidebar": "Contents",
   "toc_cell": false,
   "toc_position": {
    "height": "calc(100% - 180px)",
    "left": "10px",
    "top": "150px",
    "width": "195px"
   },
   "toc_section_display": true,
   "toc_window_display": true
  }
 },
 "nbformat": 4,
 "nbformat_minor": 2
}
